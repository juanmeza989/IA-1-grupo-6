{
 "cells": [
  {
   "cell_type": "markdown",
   "metadata": {
    "id": "KoNul0chUR90"
   },
   "source": [
    "# Temas Tratados en el Trabajo Práctico 3\n",
    "\n",
    "* Estrategias de búsqueda local.\n",
    "\n",
    "* Algoritmos Evolutivos.\n",
    "\n",
    "* Problemas de Satisfacción de Restricciones.\n",
    "\n",
    "# Ejercicios Teóricos\n",
    "\n",
    "1. ¿Qué mecanismo de detención presenta el algoritmo de Ascensión de Colinas? Describa el problema que puede presentar este mecanismo y cómo se llaman las áreas donde ocurren estos problemas."
   ]
  },
  {
   "cell_type": "markdown",
   "metadata": {},
   "source": [
    "El algoritmo de ascensión de colinas se detiene cuando:\n",
    "No encuentra un sucesor mejor que el estado actual (es decir, ninguno de los vecinos tiene un valor mayor según la función de evaluación).\n",
    "En ese caso, el algoritmo asume que alcanzó una solución y se detiene allí.\n",
    "El inconveniente es que este criterio de detención puede llevar al algoritmo a detenerse prematuramente, antes de alcanzar la mejor solución global.\n",
    "En otras palabras, se queda “atrapado” en una posición del espacio de búsqueda que no es el óptimo global, sino solo una solución aparentemente buena desde su vecindad inmediata.\n",
    "Los tres tipos de zonas problemáticas son:\n",
    "Óptimos locales:\n",
    "Puntos donde el algoritmo no puede mejorar, pero que no son el mejor valor global.\n",
    "Mesetas:\n",
    "Regiones planas del espacio de búsqueda donde varios estados vecinos tienen el mismo valor → el algoritmo no puede decidir hacia dónde moverse y puede quedar estancado.\n",
    "Cuchillas o crestas (ridges):\n",
    "Áreas estrechas y alargadas donde el óptimo global está “cerca”, pero la búsqueda local no puede alcanzarlo porque solo se mueve en direcciones estrictamente ascendentes inmediatas.\n",
    "\n"
   ]
  },
  {
   "cell_type": "markdown",
   "metadata": {},
   "source": [
    "\n",
    "2. Describa las distintas heurísticas que se emplean en un problema de Satisfacción de Restricciones."
   ]
  },
  {
   "cell_type": "markdown",
   "metadata": {},
   "source": [
    "1. Heurísticas para la selección de variables\n",
    "Se aplican para decidir qué variable elegir primero al asignar un valor:\n",
    "MRV (Minimum Remaining Values, o Valor Más Restringido):\n",
    "Se elige la variable que tenga menos valores posibles en su dominio (la más difícil de asignar).\n",
    "Idea: si va a fallar, mejor que falle lo antes posible (fail-first).\n",
    "Grado (Degree Heuristic):\n",
    "En caso de empate con MRV, se selecciona la variable con mayor número de restricciones sobre otras variables no asignadas.\n",
    "Idea: elegir la variable más \"conectada\", porque influye más en reducir el espacio de búsqueda.\n",
    "2. Heurísticas para la ordenación de valores\n",
    "Una vez elegida la variable, estas heurísticas deciden en qué orden probar los valores de su dominio:\n",
    "LCV (Least Constraining Value, o Valor Menos Restrictivo):\n",
    "Se prueba primero el valor que restrinja menos el dominio de las variables vecinas.\n",
    "Idea: mantener más opciones abiertas para las demás variables.\n",
    "3. Heurísticas de consistencia\n",
    "Ayudan a reducir el espacio de búsqueda antes o durante la asignación de valores:\n",
    "Forward Checking (Comprobación hacia Adelante):\n",
    "Cada vez que se asigna un valor, se eliminan de los dominios de los vecinos los valores que no son consistentes.\n",
    "Si un vecino queda sin valores, se detecta el fallo de inmediato → se hace backtracking.\n",
    "AC-3 (Arc Consistency):\n",
    "Garantiza la consistencia de arcos entre pares de variables: cada valor de una variable debe tener al menos un valor compatible en la variable vecina.\n",
    "Es más costoso que Forward Checking, pero más potente porque reduce más el espacio antes de la búsqueda.\n"
   ]
  },
  {
   "cell_type": "markdown",
   "metadata": {},
   "source": [
    "3. Se desea colorear el rompecabezas mostrado en la imagen con 7 colores distintos de manera que ninguna pieza tenga el mismo color que sus vecinas. Realice en una tabla el proceso de una búsqueda con Comprobación hacia Adelante empleando una heurística del Valor más Restringido."
   ]
  },
  {
   "cell_type": "code",
   "execution_count": 1,
   "metadata": {},
   "outputs": [
    {
     "ename": "ModuleNotFoundError",
     "evalue": "No module named 'requests'",
     "output_type": "error",
     "traceback": [
      "\u001b[31m---------------------------------------------------------------------------\u001b[39m",
      "\u001b[31mModuleNotFoundError\u001b[39m                       Traceback (most recent call last)",
      "\u001b[36mCell\u001b[39m\u001b[36m \u001b[39m\u001b[32mIn[1]\u001b[39m\u001b[32m, line 1\u001b[39m\n\u001b[32m----> \u001b[39m\u001b[32m1\u001b[39m \u001b[38;5;28;01mimport\u001b[39;00m\u001b[38;5;250m \u001b[39m\u001b[34;01mrequests\u001b[39;00m\n\u001b[32m      2\u001b[39m \u001b[38;5;28;01mfrom\u001b[39;00m\u001b[38;5;250m \u001b[39m\u001b[34;01mPIL\u001b[39;00m\u001b[38;5;250m \u001b[39m\u001b[38;5;28;01mimport\u001b[39;00m Image\n\u001b[32m      3\u001b[39m \u001b[38;5;28;01mfrom\u001b[39;00m\u001b[38;5;250m \u001b[39m\u001b[34;01mio\u001b[39;00m\u001b[38;5;250m \u001b[39m\u001b[38;5;28;01mimport\u001b[39;00m BytesIO\n",
      "\u001b[31mModuleNotFoundError\u001b[39m: No module named 'requests'"
     ]
    }
   ],
   "source": [
    "import requests\n",
    "from PIL import Image\n",
    "from io import BytesIO\n",
    "import matplotlib.pyplot as plt\n",
    "\n",
    "# URL directa de Google Drive\n",
    "url = \"https://drive.google.com/uc?export=view&id=1j94jFVxVG9y_ZnrMWOscQGb2MZ0Cdb3R\"\n",
    "\n",
    "# Descargar la imagen\n",
    "response = requests.get(url)\n",
    "img = Image.open(BytesIO(response.content))\n",
    "\n",
    "# Mostrar la imagen\n",
    "plt.imshow(img)\n",
    "plt.axis('off')  # Ocultar ejes\n",
    "plt.show()"
   ]
  },
  {
   "cell_type": "code",
   "execution_count": null,
   "metadata": {},
   "outputs": [],
   "source": [
    "Propongo numerarlas de izquierda a derecha y de arriba hacia abajo:\n",
    "\n",
    "Pico\n",
    "Cabeza/Cuello\n",
    "Pecho (parte delantera baja del pato)\n",
    "Ala superior\n",
    "Ala inferior\n",
    "Cola blanca\n",
    "Cola trasera (oscura)\n",
    "Cuerpo trasero (debajo del ala)\n",
    "Base agua izquierda\n",
    "Base agua centro-izquierda\n",
    "Base agua centro-derecha\n",
    "Base agua derecha\n",
    "\n",
    "Vecindades aproximadas (grafo de adyacencias)\n",
    "\n",
    "P1 (Pico): vecina de P2\n",
    "P2 (Cabeza/Cuello): vecina de P1, P3, P4\n",
    "P3 (Pecho): vecina de P2, P9, P10, P4\n",
    "P4 (Ala superior): vecina de P2, P3, P5, P8\n",
    "P5 (Ala inferior): vecina de P4, P8, P11\n",
    "P6 (Cola blanca): vecina de P4, P7, P8\n",
    "P7 (Cola trasera oscura): vecina de P6, P8, P12\n",
    "P8 (Cuerpo trasero): vecina de P4, P5, P6, P7, P11\n",
    "P9 (Agua izquierda): vecina de P3, P10\n",
    "P10 (Agua centro-izquierda): vecina de P3, P9, P11\n",
    "P11 (Agua centro-derecha): vecina de P5, P8, P10, P12\n",
    "P12 (Agua derecha): vecina de P7, P11\n"
   ]
  },
  {
   "cell_type": "markdown",
   "metadata": {},
   "source": [
    "| Paso | Variable (pieza)     | Colores posibles (MRV)                                              | Color asignado | Vecinos afectados (podas)                   |\n",
    "|------|----------------------|---------------------------------------------------------------------|----------------|----------------------------------------------|\n",
    "| 1    | P1 – Pico            | Verde, Rojo, Azul, Amarillo, Naranja, Marron, Violeta              | Verde          | P2(-Verde)                                   |\n",
    "| 2    | P2 – Cabeza/Cuello   | Rojo, Azul, Amarillo, Naranja, Marron, Violeta                     | Rojo           | P3(-Rojo), P4(-Rojo)                         |\n",
    "| 3    | P3 – Pecho           | Verde, Azul, Amarillo, Naranja, Marron, Violeta                    | Verde          | P4(-Verde), P9(-Verde), P10(-Verde)          |\n",
    "| 4    | P4 – Ala superior    | Azul, Amarillo, Naranja, Marron, Violeta                           | Azul           | P5(-Azul), P6(-Azul), P8(-Azul)              |\n",
    "| 5    | P5 – Ala inferior    | Verde, Rojo, Amarillo, Naranja, Marron, Violeta                    | Verde          | P8(-Verde), P11(-Verde)                      |\n",
    "| 6    | P8 – Cuerpo trasero  | Rojo, Amarillo, Naranja, Marron, Violeta                           | Rojo           | P6(-Rojo), P7(-Rojo), P11(-Rojo)             |\n",
    "| 7    | P6 – Cola blanca     | Verde, Amarillo, Naranja, Marron, Violeta                          | Verde          | P7(-Verde)                                   |\n",
    "| 8    | P7 – Cola trasera    | Azul, Amarillo, Naranja, Marron, Violeta                           | Azul           | P12(-Azul)                                   |\n",
    "| 9    | P11 – Agua centro-der.| Azul, Amarillo, Naranja, Marron, Violeta                          | Azul           | P10(-Azul)                                   |\n",
    "| 10   | P10 – Agua centro-izq.| Rojo, Amarillo, Naranja, Marron, Violeta                          | Rojo           | P9(-Rojo)                                    |\n",
    "| 11   | P9 – Agua izquierda  | Azul, Amarillo, Naranja, Marron, Violeta                           | Azul           |                                              |\n",
    "| 12   | P12 – Agua derecha   | Verde, Rojo, Amarillo, Naranja, Marron, Violeta                    | Verde          |                                              |\n"
   ]
  },
  {
   "cell_type": "markdown",
   "metadata": {},
   "source": [
    "# Ejercicios de Implementación\n",
    "\n",
    "4. Encuentre el máximo de la función $f(x) = \\frac{\\sin(x)}{x + 0.1}$ en $x \\in [-10; -6]$ con un error menor a $0.1$ utilizando el algoritmo _hill climbing_."
   ]
  },
  {
   "cell_type": "code",
   "execution_count": null,
   "metadata": {},
   "outputs": [],
   "source": [
    "import math, random\n",
    "import numpy as np\n",
    "import matplotlib.pyplot as plt\n",
    "\n",
    "# Definimos la función\n",
    "def f(x):\n",
    "    return math.sin(x) / (x + 0.1)\n",
    "\n",
    "# Algoritmo Hill Climbing\n",
    "def hill_climb(start_x, bounds, step_sequence=(0.5, 0.1, 0.01, 0.001, 0.0001)):\n",
    "    x = float(start_x)\n",
    "    best = f(x)\n",
    "    for step in step_sequence:\n",
    "        improved = True\n",
    "        while improved:\n",
    "            improved = False\n",
    "            for dx in (-step, step):   # probamos izquierda y derecha\n",
    "                xn = x + dx\n",
    "                if xn < bounds[0] or xn > bounds[1]:\n",
    "                    continue\n",
    "                val = f(xn)\n",
    "                if val > best:\n",
    "                    best = val\n",
    "                    x = xn\n",
    "                    improved = True\n",
    "                    break\n",
    "    return x, best\n",
    "\n",
    "# Parámetros del problema\n",
    "bounds = (-10.0, -6.0)\n",
    "\n",
    "# Reinicios múltiples (determinísticos + aleatorios)\n",
    "starts = [-10, -9.5, -9, -8.5, -8, -7.5, -7, -6.5, -6]\n",
    "for _ in range(20):\n",
    "    starts.append(random.uniform(*bounds))\n",
    "\n",
    "results = []\n",
    "for s in starts:\n",
    "    xr, fr = hill_climb(s, bounds)\n",
    "    results.append((s, xr, fr))\n",
    "\n",
    "# Seleccionamos el mejor\n",
    "best_start, best_x, best_f = max(results, key=lambda t: t[2])\n",
    "\n",
    "print(f\"Mejor resultado encontrado:\")\n",
    "print(f\"  x ≈ {best_x:.6f},  f(x) ≈ {best_f:.8f},  (inicio en {best_start:.3f})\")\n",
    "\n",
    "# Gráfico\n",
    "xs = np.linspace(-10, -6, 1000)\n",
    "ys = np.sin(xs)/(xs+0.1)\n",
    "\n",
    "plt.plot(xs, ys, label=\"f(x)\")\n",
    "plt.scatter([best_x], [best_f], c=\"red\", marker=\"o\", label=\"Hill Climbing\")\n",
    "plt.title(\"Hill Climbing en f(x)=sin(x)/(x+0.1)\")\n",
    "plt.xlabel(\"x\")\n",
    "plt.ylabel(\"f(x)\")\n",
    "plt.grid(True)\n",
    "plt.legend()\n",
    "plt.show()\n"
   ]
  },
  {
   "cell_type": "markdown",
   "metadata": {},
   "source": [
    "Referencia (búsqueda por malla fina):\n",
    "x_true ≈ -7.723560\n",
    "f(x_true) ≈ 0.1300582860789534\n",
    "\n",
    "Mejor resultado obtenido por Hill Climbing:\n",
    "x_HC ≈ -7.723557\n",
    "f(x_HC) ≈ 0.1300582860809034\n",
    "\n",
    "Error absoluto en f: ≈ 1.95 × 10^-12\n",
    "(muy por debajo de 0.1)"
   ]
  },
  {
   "cell_type": "markdown",
   "metadata": {},
   "source": [
    "5. Diseñe e implemente un algoritmo de Recocido Simulado para que juegue contra usted al Ta-te-ti. Varíe los valores de temperatura inicial entre partidas, ¿qué diferencia observa cuando la temperatura es más alta con respecto a cuando la temperatura es más baja?"
   ]
  },
  {
   "cell_type": "code",
   "execution_count": null,
   "metadata": {},
   "outputs": [],
   "source": [
    "#Pseudo código:\n",
    "function simulated_annealing(state, player):\n",
    "    T = temperatura_inicial\n",
    "    while no terminal(state) and T > Tmin:\n",
    "        vecinos = movimientos_posibles(state)\n",
    "        vecino = elegir_aleatorio(vecinos)\n",
    "        ΔE = f(vecino) - f(state)\n",
    "\n",
    "        if ΔE > 0:\n",
    "            state = vecino   # mejor jugada\n",
    "        else if random() < exp(ΔE / T):\n",
    "            state = vecino   # jugada peor, aceptada por probabilidad\n",
    "        reducir T\n",
    "    return state\n"
   ]
  },
  {
   "cell_type": "markdown",
   "metadata": {},
   "source": []
  },
  {
   "cell_type": "markdown",
   "metadata": {},
   "source": [
    "\n",
    "6. Diseñe e implemente un algoritmo genético para cargar una grúa con $n=10\\;cajas$ que puede soportar un peso máximo $C=1000\\;kg$. Cada caja *j* tiene asociado un precio $p_j$ y un peso $w_j$ como se indica en la tabla de abajo, de manera que el algoritmo debe ser capaz de maximizar el precio sin superar el límite de carga.\n",
    "\n",
    "<table><tr><td>Elemento ($j$)</td><td>1</td><td>2</td><td>3</td><td>4</td><td>5</td><td>6</td><td>7</td><td>8</td><td>9</td><td>10</td></tr>\n",
    "\n",
    "<tr><td>Precio ($p_j$)</td><td>100</td><td>50</td><td>115</td><td>25</td><td>200</td><td>30</td><td>40</td><td>100</td><td>100</td><td>100</td></tr>\n",
    "\n",
    "<tr><td>Peso ($w_j$)</td><td>300</td><td>200</td><td>450</td><td>145</td><td>664</td><td>90</td><td>150</td><td>355</td><td>401</td><td>395</td></tr></table><br>\n",
    "\n",
    "        6.1 En primer lugar, es necesario representar qué cajas estarán cargadas en la grúa y cuáles no. Esta representación corresponde a un Individuo con el que trabajará el algoritmo.\n",
    "\n",
    "        6.2 A continuación, genere una Población que contenga un número $N$ de individuos (se recomienda elegir un número par). Es necesario crear un control que verifique que ninguno de los individuos supere el peso límite.\n",
    "\n",
    "        6.3 Cree ahora una función que permita evaluar la Idoneidad de cada individuo y seleccione $N/2$ parejas usando el método de la ruleta.\n",
    "\n",
    "        6.4 Por último, Cruce las parejas elegidas, aplique un mecanismo de Mutación y verifique que los individuos de la nueva población no superen el límite de peso.\n",
    "\n",
    "        6.5 Realice este proceso iterativamente hasta que se cumpla el mecanismo de detención de su elección y muestre el mejor individuo obtenido junto con el peso y el precio que alcanza."
   ]
  },
  {
   "cell_type": "code",
   "execution_count": null,
   "metadata": {},
   "outputs": [],
   "source": []
  },
  {
   "cell_type": "markdown",
   "metadata": {},
   "source": [
    "# Bibliografía\n",
    "\n",
    "[Russell, S. & Norvig, P. (2004) _Inteligencia Artificial: Un Enfoque Moderno_. Pearson Educación S.A. (2a Ed.) Madrid, España](https://www.academia.edu/8241613/Inteligencia_Aritificial_Un_Enfoque_Moderno_2da_Edici%C3%B3n_Stuart_J_Russell_y_Peter_Norvig)\n",
    "\n",
    "[Poole, D. & Mackworth, A. (2023) _Artificial Intelligence: Foundations of Computational Agents_. Cambridge University Press (3a Ed.) Vancouver, Canada](https://artint.info/3e/html/ArtInt3e.html)"
   ]
  }
 ],
 "metadata": {
  "colab": {
   "authorship_tag": "ABX9TyP+gmm4FpgIiLEWiMEHovI/",
   "provenance": [
    {
     "file_id": "1jwMQSunMvftmLz-Cdvqvhekv-lD32cpW",
     "timestamp": 1673817668321
    }
   ]
  },
  "kernelspec": {
   "display_name": "Python 3",
   "language": "python",
   "name": "python3"
  },
  "language_info": {
   "codemirror_mode": {
    "name": "ipython",
    "version": 3
   },
   "file_extension": ".py",
   "mimetype": "text/x-python",
   "name": "python",
   "nbconvert_exporter": "python",
   "pygments_lexer": "ipython3",
   "version": "3.13.0"
  }
 },
 "nbformat": 4,
 "nbformat_minor": 0
}
