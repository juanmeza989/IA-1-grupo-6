{
 "cells": [
  {
   "attachments": {},
   "cell_type": "markdown",
   "metadata": {
    "id": "1ZXwsM9Hq9mI",
    "slideshow": {
     "slide_type": "slide"
    }
   },
   "source": [
    "# Temas Tratados en el Trabajo Práctico 2\n",
    "\n",
    "* Conceptos de Búsqueda no Informada y Búsqueda Informada.\n",
    "\n",
    "* Concepto de Heurística.\n",
    "\n",
    "* Abstracción de Problemas como Gráficos de Árbol.\n",
    "\n",
    "* Estrategias de Búsqueda no Informada: Primero en Amplitud, Primero en Profundidad y Profundidad Limitada.\n",
    "\n",
    "* Estrategias de Búsqueda Informada: Búsqueda Voraz, Costo Uniforme, A*."
   ]
  },
  {
   "cell_type": "markdown",
   "metadata": {},
   "source": [
    "\n",
    "## Ejercicios Teóricos\n",
    "\n",
    "### 1. ¿Qué diferencia hay entre una estrategia de búsqueda Informada y una estrategia de búsqueda No Informada?"
   ]
  },
  {
   "cell_type": "markdown",
   "metadata": {},
   "source": [
    "##### Búsqueda No Informada (o Ciega)\n",
    "\n",
    "* **Descripción:** Estas estrategias de búsqueda no utilizan ninguna información adicional sobre el problema (como la distancia al objetivo) para decidir qué camino explorar. Recorren el espacio de búsqueda de manera sistemática, pero \"a ciegas\".\n",
    "* **Características:** Son exhaustivas y garantizan encontrar una solución (si existe), pero pueden ser muy lentas e ineficientes para problemas grandes. No discriminan entre un camino que se acerca al objetivo y uno que se aleja.\n",
    "\n",
    "\n",
    "##### Búsqueda Informada (o Heurística)\n",
    "\n",
    "* **Descripción:** Estas estrategias utilizan una **función heurística** para estimar lo \"cerca\" que está un estado del objetivo. La heurística guía la búsqueda, priorizando los caminos que parecen más prometedores. \n",
    "* **Características:** Son mucho más eficientes y rápidas que las no informadas, ya que evitan explorar ramas innecesarias. Sin embargo, no siempre garantizan encontrar la solución óptima si la heurística no es buena."
   ]
  },
  {
   "cell_type": "markdown",
   "metadata": {},
   "source": [
    "### 2. ¿Qué es una heurística y para qué sirve?"
   ]
  },
  {
   "cell_type": "markdown",
   "metadata": {},
   "source": [
    "Las heurísticas son fundamentales en inteligencia artificial, especialmente en las búsquedas informadas, para resolver problemas demasiado complejos o grandes para ser resueltos con métodos exhaustivos. Su propósito principal es guiar la búsqueda hacia estados que tienen más probabilidades de conducir a una solución, reduciendo significativamente el tiempo y los recursos computacionales.\n",
    "\n",
    "En esencia, una heurística te permite encontrar una buena solución de forma eficiente, incluso si no es la mejor solución posible."
   ]
  },
  {
   "cell_type": "markdown",
   "metadata": {},
   "source": [
    "### 3. ¿Es posible que un algoritmo de búsqueda no tenga solución?"
   ]
  },
  {
   "cell_type": "markdown",
   "metadata": {},
   "source": [
    "Sí, esto puede ocurrir por dos razones principales:\n",
    "\n",
    "1.  **El problema no tiene solución:** El objetivo simplemente no es alcanzable desde el estado inicial. Si el algoritmo de búsqueda es completo (es decir, garantiza encontrar una solución si existe), la búsqueda terminará después de explorar todo el espacio de estados sin éxito.\n",
    "2.  **El algoritmo no es completo:** Algunos algoritmos de búsqueda no están diseñados para explorar todo el espacio de estados. Por ejemplo, una búsqueda en profundidad (DFS) puede quedar atrapada en un bucle infinito en un camino sin solución y nunca encontrar la respuesta, incluso si existe en otra rama del árbol. "
   ]
  },
  {
   "cell_type": "markdown",
   "metadata": {},
   "source": [
    "### 4. Describa en qué secuencia será recorrido el Árbol de Búsqueda representado en la imagen cuando se aplica un Algoritmo de Búsqueda con la estrategia:\n",
    "\n",
    "        4.1 Primero en Amplitud.\n",
    "\n",
    "| Estado Actual | ↓ | | | | | | | |\n",
    "| :--- | :---: | :---: | :---: | :---: | :---: | :---: | :---: | :---: |\n",
    "|A|D|F|I| | | | | |\n",
    "|D|F|I|H|J| | | | |\n",
    "|F|I|H|J|C|E| | | |\n",
    "|I|H|J|C|E| | | | |\n",
    "|H|J|C|E|P|O| | | |\n",
    "|J|C|E|P|O|K| | | |\n",
    "|C|E|P|O|K|Z|W| | |\n",
    "|E|P|O|K|Z|W| | | |\n",
    "|P|O|K|Z|W| | | | |\n",
    "|O|K|Z|W| | | | | |\n",
    "|K|Z|W|B| | | | | |\n",
    "|Z|W|B| | | | | | |\n",
    "|W|B| | | | | | | |\n",
    "|B| | | | | | | | |\n",
    "| | | | | | | | | |\n",
    "| | | | | | | | | |\n",
    "| | | | | | | | | |\n",
    "\n",
    "        4.2 Primero en Profundidad.\n",
    "\n",
    "| Estado Actual | ↓ | | | | | | | |\n",
    "| :--- | :---: | :---: | :---: | :---: | :---: | :---: | :---: | :---: |\n",
    "|A|D|F|I| | | | | |\n",
    "|D|H|J|F|I| | | | |\n",
    "|H|P|O|J|F|I| | | |\n",
    "|P|O|J|F|I| | | | |\n",
    "|O|J|F|I| | | | | |\n",
    "|J|K|F|I| | | | | |\n",
    "|K|B|F|I| | | | | |\n",
    "|B|F|I| | | | | | |\n",
    "|F|C|E|I| | | | | |\n",
    "|C|Z|W|E|I| | | | |\n",
    "|Z|W|E|I| | | | | |\n",
    "|W|E|I| | | | | | |\n",
    "|E|I| | | | | | | |\n",
    "|I| | | | | | | | |\n",
    "| | | | | | | | | |\n",
    "| | | | | | | | | |\n",
    "| | | | | | | | | |\n",
    "\n",
    "        4.3 Primero en Profundidad con Profundidad Limitada Iterativa (comenzando por un nivel de profundidad 1).\n",
    "\n",
    "| Estado Actual | ↓ | | | | | | | | | | | | |\n",
    "| :--- | :---: | :---: | :---: | :---: | :---: | :---: | :---: | :---: | :---: | :---: | :---: | :---: | :---: |\n",
    "|A|D|F|I| | | | | | | | | | |\n",
    "|D|F|I| | | | | | | | | | | |\n",
    "|F|I| | | | | | | | | | | | |\n",
    "|I| | | | | | | | | | | | | |\n",
    "|A|D|H|J|F|C|E|I| | | | | | |\n",
    "|D|H|J|F|C|E|I| | | | | | | |\n",
    "|H|J|F|C|E|I| | | | | | | | |\n",
    "|J|F|C|E|I| | | | | | | | | |\n",
    "|F|C|E|I| | | | | | | | | | |\n",
    "|C|E|I| | | | | | | | | | | |\n",
    "|E|I| | | | | | | | | | | | |\n",
    "|I| | | | | | | | | | | | | |\n",
    "|A|D|H|P|O|J|K|F|C|Z|W|E|I| |\n",
    "|D|H|P|O|J|K|F|C|Z|W|E|I| | |\n",
    "|H|P|O|J|K|F|C|Z|W|E|I| | | |\n",
    "|P|O|J|K|F|C|Z|W|E|I| | | | |\n",
    "|O|J|K|F|C|Z|W|E|I| | | | | |\n",
    "|J|K|F|C|Z|W|E|I| | | | | | |\n",
    "|K|F|C|Z|W|E|I| | | | | | | |\n",
    "|F|C|Z|W|E|I| | | | | | | | |\n",
    "|C|Z|W|E|I| | | | | | | | | |\n",
    "|Z|W|E|I| | | | | | | | | | |\n",
    "|W|E|I| | | | | | | | | | | |\n",
    "|E|I| | | | | | | | | | | | |\n",
    "|I| | | | | | | | | | | | | |\n",
    "|A|D|H|P|O|J|K|B|F|C|Z|W|E|I|\n",
    "|D|H|P|O|J|K|B|F|C|Z|W|E|I| |\n",
    "|H|P|O|J|K|B|F|C|Z|W|E|I| | |\n",
    "|P|O|J|K|B|F|C|Z|W|E|I| | | |\n",
    "|O|J|K|B|F|C|Z|W|E|I| | | | |\n",
    "|J|K|B|F|C|Z|W|E|I| | | | | |\n",
    "|K|B|F|C|Z|W|E|I| | | | | | |\n",
    "|B|F|C|Z|W|E|I| | | | | | | |\n",
    "|F|C|Z|W|E|I| | | | | | | | |\n",
    "|C|Z|W|E|I| | | | | | | | | |\n",
    "|Z|W|E|I| | | | | | | | | | |\n",
    "|W|E|I| | | | | | | | | | | |\n",
    "|E|I| | | | | | | | | | | | |\n",
    "|I| | | | | | | | | | | | | |"
   ]
  },
  {
   "cell_type": "code",
   "execution_count": 12,
   "metadata": {},
   "outputs": [
    {
     "ename": "ModuleNotFoundError",
     "evalue": "No module named 'requests'",
     "output_type": "error",
     "traceback": [
      "\u001b[31m---------------------------------------------------------------------------\u001b[39m",
      "\u001b[31mModuleNotFoundError\u001b[39m                       Traceback (most recent call last)",
      "\u001b[36mCell\u001b[39m\u001b[36m \u001b[39m\u001b[32mIn[12]\u001b[39m\u001b[32m, line 1\u001b[39m\n\u001b[32m----> \u001b[39m\u001b[32m1\u001b[39m \u001b[38;5;28;01mimport\u001b[39;00m\u001b[38;5;250m \u001b[39m\u001b[34;01mrequests\u001b[39;00m\n\u001b[32m      2\u001b[39m \u001b[38;5;28;01mfrom\u001b[39;00m\u001b[38;5;250m \u001b[39m\u001b[34;01mPIL\u001b[39;00m\u001b[38;5;250m \u001b[39m\u001b[38;5;28;01mimport\u001b[39;00m Image\n\u001b[32m      3\u001b[39m \u001b[38;5;28;01mfrom\u001b[39;00m\u001b[38;5;250m \u001b[39m\u001b[34;01mio\u001b[39;00m\u001b[38;5;250m \u001b[39m\u001b[38;5;28;01mimport\u001b[39;00m BytesIO\n",
      "\u001b[31mModuleNotFoundError\u001b[39m: No module named 'requests'"
     ]
    }
   ],
   "source": [
    "import requests\n",
    "from PIL import Image\n",
    "from io import BytesIO\n",
    "import matplotlib.pyplot as plt\n",
    "\n",
    "# URL directa de Google Drive\n",
    "url = \"https://drive.google.com/uc?export=view&id=1IJDEKWhfMEzXnzr28RgTNOuKBER2NsuP\"\n",
    "\n",
    "# Descargar la imagen\n",
    "response = requests.get(url)\n",
    "img = Image.open(BytesIO(response.content))\n",
    "\n",
    "# Mostrar la imagen\n",
    "plt.imshow(img)\n",
    "plt.axis('off')  # Ocultar ejes\n",
    "plt.show()"
   ]
  },
  {
   "cell_type": "markdown",
   "metadata": {},
   "source": [
    "Muestre la respuesta en una tabla, indicando para cada paso que da el agente el nodo que evalúa actualmente y los que están en la pila/cola de expansión según corresponda."
   ]
  },
  {
   "cell_type": "code",
   "execution_count": null,
   "metadata": {},
   "outputs": [
    {
     "data": {
      "image/png": "[encoded data removed]",
      "text/plain": [
       "<Figure size 1166.25x400 with 1 Axes>"
      ]
     },
     "metadata": {},
     "output_type": "display_data"
    }
   ],
   "source": [
    "url = \"https://drive.google.com/uc?export=view&id=1fW_BgT5muzQffMVRcIiB2mM2Zf66Nb-m\"\n",
    "response = requests.get(url)\n",
    "img = Image.open(BytesIO(response.content))\n",
    "\n",
    "# Mostrar con figura más grande\n",
    "plt.figure(figsize=(img.width / 80, img.height / 80))  # ajustá el divisor según densidad deseada\n",
    "plt.imshow(img)\n",
    "plt.axis('off')\n",
    "plt.show()"
   ]
  },
  {
   "cell_type": "markdown",
   "metadata": {},
   "source": [
    "## Ejercicios de Implementación\n",
    "\n",
    "### 5. Represente el tablero mostrado en la imágen como un árbol de búsqueda y a continuación programe un agente capaz de navegar por el tablero para llegar desde la casilla I a la casilla F utilizando:\n",
    "\n",
    "        5.1 La estrategia Primero en Profundidad.\n",
    "\n",
    "        5.2 La estrategia Avara.\n",
    "\n",
    "        5.3 La estrategia A*.\n",
    "\n",
    "Considere los siguientes comportamientos del agente:\n",
    "\n",
    "* El agente no podrá moverse a las casillas siguientes si las separa una pared.\n",
    "\n",
    "* La heurística empleada en el problema es la Distancia de Manhattan hasta la casilla objetivo (el menor número de casillas adyacentes entre la casilla actual y la casilla objetivo).\n",
    "\n",
    "* El costo de atravesar una casilla es de 1, a excepción de la casilla W, cuyo costo al atravesarla es 30.\n",
    "\n",
    "* En caso de que varias casillas tengan el mismo valor para ser expandidas, el algoritmo eligirá en orden alfabético las casillas que debe visitar."
   ]
  },
  {
   "cell_type": "markdown",
   "metadata": {},
   "source": [
    "![arbol](./arbol.jpeg)"
   ]
  },
  {
   "cell_type": "code",
   "execution_count": null,
   "metadata": {},
   "outputs": [
    {
     "data": {
      "image/png": "[encoded data removed]",
      "text/plain": [
       "<Figure size 640x480 with 1 Axes>"
      ]
     },
     "metadata": {},
     "output_type": "display_data"
    }
   ],
   "source": [
    "url = \"https://drive.google.com/uc?export=view&id=1FajYiBQ507o6yiE7MndL-PQXyoyELtuD\"\n",
    "response = requests.get(url)\n",
    "img = Image.open(BytesIO(response.content))\n",
    "plt.imshow(img)\n",
    "plt.axis('off')\n",
    "plt.show()"
   ]
  },
  {
   "cell_type": "code",
   "execution_count": null,
   "metadata": {},
   "outputs": [
    {
     "name": "stdout",
     "output_type": "stream",
     "text": [
      "DFS:    ['I', 'G', 'P', 'Q', 'R', 'T', 'K', 'C', 'A', 'B', 'D', 'M', 'F']\n",
      "Greedy: ['I', 'Q', 'R', 'T', 'K', 'M', 'F']\n",
      "A*:     ['I', 'Q', 'R', 'T', 'K', 'M', 'F']\n"
     ]
    }
   ],
   "source": [
    "import numpy as np\n",
    "import matplotlib.pyplot as plt\n",
    "from collections import deque\n",
    "from heapq import heappush, heappop\n",
    "\n",
    "# 1. Representación del tablero como un grafo de adyacencias\n",
    "# Las líneas rojas son barreras.\n",
    "grafo = {\n",
    "    'A': ['B', 'C'],\n",
    "    'B': ['A', 'D'],\n",
    "    'C': ['A', 'K'],\n",
    "    'D': ['B', 'M'],\n",
    "    'E': ['N'],\n",
    "    'F': ['M'],\n",
    "    'G': ['I', 'P'],\n",
    "    'I': ['G', 'W', 'Q'],\n",
    "    'K': ['W', 'M', 'C', 'T'],\n",
    "    'M': ['K', 'N', 'D', 'F'],\n",
    "    'N': ['M', 'E'],\n",
    "    'P': ['G', 'Q'],\n",
    "    'Q': ['P', 'I', 'R'],\n",
    "    'R': ['Q', 'T'],\n",
    "    'T': ['R', 'K'],\n",
    "    'W': ['I', 'K']\n",
    "}\n",
    "\n",
    "# 2. Heurística: Distancia de Manhattan al objetivo 'F'\n",
    "# Se define manualmente para este problema.\n",
    "heuristica = {\n",
    "    'A': 6, 'B': 6, 'C': 5, 'D': 5, 'E': 5,\n",
    "    'F': 0, 'G': 5, 'I': 4, 'K': 3, 'M': 2, 'N': 3,\n",
    "    'P': 4, 'Q': 3, 'R': 2, 'T': 1, 'W': 4\n",
    "}\n",
    "\n",
    "# Costo de atravesar una casilla\n",
    "def costo(nodo):\n",
    "    \"\"\"Retorna el costo de atravesar una casilla.\"\"\"\n",
    "    return 30 if nodo == 'W' else 1\n",
    "\n",
    "# 3. Agente de Búsqueda\n",
    "# 3.1 Estrategia Primero en Profundidad (DFS)\n",
    "def dfs(inicio, fin):\n",
    "    \"\"\"\n",
    "    Realiza una búsqueda en profundidad para encontrar un camino del inicio al fin.\n",
    "    \"\"\"\n",
    "    stack = deque([(inicio, [inicio])])\n",
    "    visitados = set()\n",
    "    while stack:\n",
    "        nodo, camino = stack.pop()\n",
    "        if nodo == fin:\n",
    "            return camino\n",
    "        if nodo not in visitados:\n",
    "            visitados.add(nodo)\n",
    "            # Ordenar vecinos alfabéticamente para romper empates\n",
    "            for vecino in sorted(grafo[nodo], reverse=True):\n",
    "                if vecino not in visitados:\n",
    "                    stack.append((vecino, camino + [vecino]))\n",
    "    return None\n",
    "\n",
    "# 3.2 Estrategia Avara (Greedy Best-First)\n",
    "def greedy(inicio, fin):\n",
    "    \"\"\"\n",
    "    Realiza una búsqueda avara para encontrar un camino óptimo.\n",
    "    Utiliza una cola de prioridad basada en la heurística.\n",
    "    \"\"\"\n",
    "    # La cola de prioridad almacena tuplas: (heuristica, nodo, camino)\n",
    "    pq = [(heuristica[inicio], inicio, [inicio])]\n",
    "    visitados = set()\n",
    "    while pq:\n",
    "        _, nodo, camino = heappop(pq)\n",
    "        if nodo == fin:\n",
    "            return camino\n",
    "        if nodo not in visitados:\n",
    "            visitados.add(nodo)\n",
    "            for vecino in sorted(grafo[nodo]):\n",
    "                if vecino not in visitados:\n",
    "                    heappush(pq, (heuristica[vecino], vecino, camino + [vecino]))\n",
    "    return None\n",
    "\n",
    "# 3.3 Estrategia A*\n",
    "def a_star(inicio, fin):\n",
    "    \"\"\"\n",
    "    Realiza una búsqueda A* para encontrar el camino con el costo más bajo.\n",
    "    Utiliza una cola de prioridad basada en f(n) = g(n) + h(n).\n",
    "    \"\"\"\n",
    "    # La cola de prioridad almacena tuplas: (f_costo, g_costo, nodo, camino)\n",
    "    pq = [(heuristica[inicio], 0, inicio, [inicio])]\n",
    "    visitados = {}  # Almacena el nodo y el costo g más bajo encontrado\n",
    "    while pq:\n",
    "        f, g, nodo, camino = heappop(pq)\n",
    "        if nodo == fin:\n",
    "            return camino\n",
    "        # Si ya visitamos el nodo con un costo menor o igual, lo saltamos\n",
    "        if nodo in visitados and visitados[nodo] <= g:\n",
    "            continue\n",
    "        visitados[nodo] = g\n",
    "        # Ordenar vecinos alfabéticamente para romper empates\n",
    "        for vecino in sorted(grafo[nodo]):\n",
    "            g_nuevo = g + costo(vecino)\n",
    "            f_nuevo = g_nuevo + heuristica[vecino]\n",
    "            heappush(pq, (f_nuevo, g_nuevo, vecino, camino + [vecino]))\n",
    "    return None\n",
    "\n",
    "# 4. Pruebas y Resultados\n",
    "inicio, fin = 'I', 'F'\n",
    "print(\"DFS:   \", dfs(inicio, fin))\n",
    "print(\"Greedy:\", greedy(inicio, fin))\n",
    "print(\"A*:    \", a_star(inicio, fin))"
   ]
  },
  {
   "cell_type": "code",
   "execution_count": null,
   "metadata": {},
   "outputs": [],
   "source": [
    "DFS:    ['I', 'G', 'P', 'Q', 'R', 'T', 'K', 'C', 'A', 'B', 'D', 'M', 'F']\n",
    "Greedy: ['I', 'Q', 'R', 'T', 'K', 'M', 'F']\n",
    "A*:     ['I', 'Q', 'R', 'T', 'K', 'M', 'F']"
   ]
  },
  {
   "cell_type": "markdown",
   "metadata": {},
   "source": [
    "### 6. Desarrolle un agente que emplee una estrategia de búsqueda A* para ir de una casilla a otra evitando la pared representada, pudiendo seleccionar ustedes mismos el inicio y el final. Muestre en una imagen el camino obtenido."
   ]
  },
  {
   "cell_type": "code",
   "execution_count": null,
   "metadata": {},
   "outputs": [
    {
     "ename": "NameError",
     "evalue": "name 'requests' is not defined",
     "output_type": "error",
     "traceback": [
      "\u001b[31m---------------------------------------------------------------------------\u001b[39m",
      "\u001b[31mNameError\u001b[39m                                 Traceback (most recent call last)",
      "\u001b[36mCell\u001b[39m\u001b[36m \u001b[39m\u001b[32mIn[11]\u001b[39m\u001b[32m, line 2\u001b[39m\n\u001b[32m      1\u001b[39m url = \u001b[33m\"\u001b[39m\u001b[33mhttps://drive.google.com/uc?export=view&id=1fD2Ws5oqFU9_RTj-yX9BIvslXJiqcLCZ\u001b[39m\u001b[33m\"\u001b[39m\n\u001b[32m----> \u001b[39m\u001b[32m2\u001b[39m response = \u001b[43mrequests\u001b[49m.get(url)\n\u001b[32m      3\u001b[39m img = Image.open(BytesIO(response.content))\n\u001b[32m      4\u001b[39m plt.imshow(img)\n",
      "\u001b[31mNameError\u001b[39m: name 'requests' is not defined"
     ]
    }
   ],
   "source": [
    "url = \"https://drive.google.com/uc?export=view&id=1fD2Ws5oqFU9_RTj-yX9BIvslXJiqcLCZ\"\n",
    "response = requests.get(url)\n",
    "img = Image.open(BytesIO(response.content))\n",
    "plt.imshow(img)\n",
    "plt.axis('off')\n",
    "plt.show()"
   ]
  },
  {
   "cell_type": "code",
   "execution_count": null,
   "metadata": {},
   "outputs": [
    {
     "data": {
      "image/png": "[encoded data removed]",
      "text/plain": [
       "<Figure size 640x480 with 1 Axes>"
      ]
     },
     "metadata": {},
     "output_type": "display_data"
    }
   ],
   "source": [
    "import heapq\n",
    "import matplotlib.pyplot as plt\n",
    "import numpy as np\n",
    "\n",
    "# Crear grilla vacía 20x20 (0 = libre, 1 = pared)\n",
    "grid = np.zeros((20,20), dtype=int)\n",
    "\n",
    "# Pared vertical (columna 7, filas 5 a 15)\n",
    "for i in range(4,15):\n",
    "    grid[i,8] = 1\n",
    "\n",
    "# Pared horizontal (fila 15, columnas 3 a 7)\n",
    "for j in range(8,13):\n",
    "    grid[15,j] = 1\n",
    "\n",
    "# Pared diagonal de 2 cuadros (ejemplo en filas 13-14, columnas 6-7)\n",
    "grid[2,10] = 1\n",
    "grid[3,9] = 1\n",
    "\n",
    "# Heurística Manhattan\n",
    "def h(a,b):\n",
    "    return abs(a[0]-b[0]) + abs(a[1]-b[1])\n",
    "\n",
    "# Algoritmo A*\n",
    "def astar(grid, start, goal):\n",
    "    vecinos = [(1,0),(-1,0),(0,1),(0,-1)]\n",
    "    open_set = []\n",
    "    heapq.heappush(open_set, (h(start,goal),0,start,[start]))\n",
    "    visitados = {}\n",
    "    while open_set:\n",
    "        f,g,nodo,path = heapq.heappop(open_set)\n",
    "        if nodo == goal:\n",
    "            return path\n",
    "        if nodo in visitados and visitados[nodo] <= g:\n",
    "            continue\n",
    "        visitados[nodo] = g\n",
    "        for dx,dy in vecinos:\n",
    "            nx,ny = nodo[0]+dx, nodo[1]+dy\n",
    "            if 0<=nx<grid.shape[0] and 0<=ny<grid.shape[1]:\n",
    "                if grid[nx,ny] == 0:   # libre\n",
    "                    g2 = g+1\n",
    "                    f2 = g2+h((nx,ny),goal)\n",
    "                    heapq.heappush(open_set,(f2,g2,(nx,ny),path+[(nx,ny)]))\n",
    "    return None\n",
    "\n",
    "# -------------------------------\n",
    "# Elegí el inicio y fin (fila,columna)\n",
    "inicio = (2,3)   \n",
    "fin    = (17,14)\n",
    "# -------------------------------\n",
    "\n",
    "ruta = astar(grid, inicio, fin)\n",
    "\n",
    "# Dibujar\n",
    "plt.imshow(grid, cmap=\"gray_r\")  # blanco = libre, negro = pared\n",
    "for (x,y) in ruta:\n",
    "    plt.scatter(y, x, c=\"blue\", s=80)\n",
    "plt.scatter(inicio[1], inicio[0], c=\"purple\", s=120, label=\"Inicio\")\n",
    "plt.scatter(fin[1], fin[0], c=\"yellow\", s=120, label=\"Fin\")\n",
    "plt.legend()\n",
    "plt.title(\"Ruta A* en grilla 20x20 con pared en L + diagonal\")\n",
    "plt.show()\n",
    "\n",
    "\n"
   ]
  },
  {
   "cell_type": "markdown",
   "metadata": {},
   "source": [
    "![a](./captura%20ej6.png)"
   ]
  },
  {
   "attachments": {},
   "cell_type": "markdown",
   "metadata": {
    "id": "q2aeBGG9Ybnh"
   },
   "source": [
    "# Bibliografía\n",
    "\n",
    "[Russell, S. & Norvig, P. (2004) _Inteligencia Artificial: Un Enfoque Moderno_. Pearson Educación S.A. (2a Ed.) Madrid, España](https://www.academia.edu/8241613/Inteligencia_Aritificial_Un_Enfoque_Moderno_2da_Edici%C3%B3n_Stuart_J_Russell_y_Peter_Norvig)\n",
    "\n",
    "[Poole, D. & Mackworth, A. (2023) _Artificial Intelligence: Foundations of Computational Agents_. Cambridge University Press (3a Ed.) Vancouver, Canada](https://artint.info/3e/html/ArtInt3e.html)"
   ]
  }
 ],
 "metadata": {
  "colab": {
   "authorship_tag": "ABX9TyN2cl/po/jsIijyv9hzEMxZ",
   "provenance": []
  },
  "kernelspec": {
   "display_name": "Python 3",
   "name": "python3"
  },
  "language_info": {
   "codemirror_mode": {
    "name": "ipython",
    "version": 3
   },
   "file_extension": ".py",
   "mimetype": "text/x-python",
   "name": "python",
   "nbconvert_exporter": "python",
   "pygments_lexer": "ipython3",
   "version": "3.12.3"
  }
 },
 "nbformat": 4,
 "nbformat_minor": 0
}
