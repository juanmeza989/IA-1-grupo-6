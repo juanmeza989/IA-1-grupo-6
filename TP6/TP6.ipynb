{
 "cells": [
  {
   "cell_type": "markdown",
   "metadata": {
    "id": "Ds5tHU-5hZKV"
   },
   "source": [
    "# Temas Tratados en el Trabajo Práctico 6\n",
    "\n",
    "* Modelado de problemas en espacios de estado.\n",
    "\n",
    "* Algoritmos de planificación hacia adelante y hacia atrás.\n",
    "\n",
    "* Representación y solución de problemas descritos en lenguaje STRIPS.\n",
    "\n",
    "* Algoritmo GRAPHPLAN.\n",
    "\n",
    "* Planificación con restricciones de tiempo y recursos.\n",
    "\n",
    "* Caminos críticos y tiempos de relajación.\n",
    "\n",
    "## Ejercicios Teóricos\n",
    "\n",
    "1. ¿En qué tipo de algoritmos se basa un planificador para encontrar el mejor camino a un estado solución?"
   ]
  },
  {
   "cell_type": "markdown",
   "metadata": {},
   "source": [
    "##### Los tipos principales de algoritmos que usa son:\n",
    "\n",
    "* Búsqueda hacia adelante (progression planning):\n",
    "Explora a partir del estado inicial aplicando acciones hasta alcanzar el objetivo.\n",
    "Se apoya en algoritmos como A* para encontrar la mejor secuencia de acciones.\n",
    "\n",
    "* Búsqueda hacia atrás (regression planning):\n",
    "Empieza desde el estado objetivo y busca qué acciones lo pueden generar, retrocediendo hasta llegar al estado inicial.\n",
    "\n",
    "* STRIPS y Graphplan:\n",
    "STRIPS da la representación formal de estados, acciones y objetivos.\n",
    "Graphplan construye un grafo de planificación y utiliza búsqueda en ese grafo para encontrar un plan válido y, en algunos casos, óptimo.\n",
    "\n",
    "* Planificación con optimización:\n",
    "Cuando se consideran tiempos y recursos, se aplican algoritmos de búsqueda con heurísticas de optimización (por ejemplo, caminos críticos o relajación temporal)."
   ]
  },
  {
   "cell_type": "markdown",
   "metadata": {},
   "source": [
    "\n",
    "2. ¿Qué tres elementos se encuentran dentro de una acción formulada en lenguaje STRIPS? Describa brevemente qué función cumple cada uno."
   ]
  },
  {
   "cell_type": "markdown",
   "metadata": {},
   "source": [
    "##### En el lenguaje STRIPS (Stanford Research Institute Problem Solver), cada acción se describe con tres elementos principales:\n",
    "\n",
    "* Nombre y parámetros de la acción:\n",
    " Identifican qué acción es y sobre qué objetos actúa.\n",
    "Ejemplo: Volar(avión1, Mendoza, BsAs).\n",
    "Función: dar un identificador claro y los argumentos necesarios para aplicar la acción.\n",
    "\n",
    "* Precondiciones (PRECOND):\n",
    " Son los literales que deben cumplirse en el estado actual para que la acción pueda ejecutarse.\n",
    "Ejemplo: En(avión1, Mendoza) ^ Aeropuerto(Mendoza) ^ Aeropuerto(BsAs).\n",
    "Función: asegurar que la acción solo se puede ejecutar si el mundo está en un estado adecuado.\n",
    "\n",
    "* Efectos (EFECTO):\n",
    " Son los cambios que produce la acción en el mundo, agregando hechos nuevos y eliminando los que dejan de ser ciertos.\n",
    "Ejemplo: ¬En(avión1, Mendoza) ^ En(avión1, BsAs).\n",
    "Función: actualizar el estado para reflejar la nueva situación tras ejecutar la acción."
   ]
  },
  {
   "cell_type": "markdown",
   "metadata": {},
   "source": [
    "3. Describa las ventajas y desventajas de desarrollar un algoritmo de planificación hacia adelante y hacia atrás en el espacio de estados.\n"
   ]
  },
  {
   "cell_type": "markdown",
   "metadata": {},
   "source": [
    "##### La planificación hacia adelante comienza desde el estado inicial y aplica acciones sucesivas hasta alcanzar el objetivo.\n",
    "\n",
    "* Ventajas: es intuitiva, sigue el mismo camino que recorrería el agente en la realidad y siempre garantiza que las acciones ejecutadas son aplicables.\n",
    "\n",
    "* Desventajas: el espacio de búsqueda puede ser muy grande y se pueden explorar muchos caminos irrelevantes que no acercan al objetivo.\n",
    "\n",
    "##### La planificación hacia atrás parte del objetivo y busca qué acciones podrían producirlo, retrocediendo hasta llegar al estado inicial.\n",
    "\n",
    "* Ventajas: reduce la búsqueda porque se concentra en acciones directamente relacionadas con el objetivo y evita caminos innecesarios.\n",
    "\n",
    "* Desventajas: puede ser difícil determinar las precondiciones exactas y verificar si son alcanzables desde el estado inicial, además de que no siempre es intuitiva de implementar."
   ]
  },
  {
   "cell_type": "markdown",
   "metadata": {},
   "source": [
    "4. Considere el problema de ponerse uno mismo zapatos y medias. Aplique GRAPHPLAN a este problema y muestre la solución obtenida. Muestre el plan de orden parcial que es solución e indique cuántas linealizaciones diferentes existen para el plan de orden parcial."
   ]
  },
  {
   "cell_type": "markdown",
   "metadata": {},
   "source": [
    "### PROBLEMA: Ponerse medias y zapatos\n",
    "\n",
    "ESTADO INICIAL:\n",
    "- Ninguna media puesta\n",
    "- Ningún zapato puesto\n",
    "\n",
    "OBJETIVO:\n",
    "- Tener ambas medias puestas\n",
    "- Tener ambos zapatos puestos\n",
    "\n",
    "ACCIONES DISPONIBLES (STRIPS-like)\n",
    "\n",
    "Acción: PonerMedia(izquierda)\n",
    "  Precondiciones: Pie izquierdo desnudo\n",
    "  Efectos: Media izquierda puesta\n",
    "\n",
    "Acción: PonerMedia(derecha)\n",
    "  Precondiciones: Pie derecho desnudo\n",
    "  Efectos: Media derecha puesta\n",
    "\n",
    "Acción: PonerZapato(izquierdo)\n",
    "  Precondiciones: Media izquierda puesta\n",
    "  Efectos: Zapato izquierdo puesto\n",
    "\n",
    "Acción: PonerZapato(derecho)\n",
    "  Precondiciones: Media derecha puesta\n",
    "  Efectos: Zapato derecho puesto\n",
    "\n",
    "GRAPHPLAN: Expansión por niveles\n",
    "\n",
    "Nivel S0 (estado inicial):\n",
    "- Pie izquierdo desnudo\n",
    "- Pie derecho desnudo\n",
    "\n",
    "Nivel A0 (acciones aplicables desde S0):\n",
    "- PonerMedia(izquierda)\n",
    "- PonerMedia(derecha)\n",
    "\n",
    "Nivel S1 (nuevos estados alcanzables):\n",
    "- Media izquierda puesta\n",
    "- Media derecha puesta\n",
    "\n",
    "Nivel A1 (acciones aplicables desde S1):\n",
    "- PonerZapato(izquierdo)\n",
    "- PonerZapato(derecho)\n",
    "\n",
    "Nivel S2 (objetivo alcanzado):\n",
    "- Zapato izquierdo puesto\n",
    "- Zapato derecho puesto\n",
    "\n",
    "PLAN DE ORDEN PARCIAL\n",
    "\n",
    "1. PonerMedia(izquierda)  → PonerZapato(izquierdo)\n",
    "2. PonerMedia(derecha)    → PonerZapato(derecho)\n",
    "\n",
    "// Restricciones de precedencia:\n",
    "\n",
    "// - Cada zapato depende de su respectiva media\n",
    "\n",
    "// - No hay orden entre pie izquierdo y derecho\n",
    "\n",
    "LINEALIZACIONES POSIBLES\n",
    "\n",
    "Orden 1: MediaIzq → ZapatoIzq → MediaDer → ZapatoDer\n",
    "\n",
    "Orden 2: MediaIzq → MediaDer → ZapatoIzq → ZapatoDer\n",
    "\n",
    "Orden 3: MediaDer → ZapatoDer → MediaIzq → ZapatoIzq\n",
    "\n",
    "Orden 4: MediaDer → MediaIzq → ZapatoIzq → ZapatoDer\n",
    "\n",
    "Orden 5: MediaIzq → MediaDer → ZapatoDer → ZapatoIzq\n",
    "\n",
    "Orden 6: MediaDer → MediaIzq → ZapatoDer → ZapatoIzq\n",
    "\n",
    "TOTAL: 6 linealizaciones válidas.\n"
   ]
  },
  {
   "cell_type": "markdown",
   "metadata": {},
   "source": [
    "5. Se requiere ensamblar una máquina cuyas piezas están identificadas con las letras A, B, C, D y E. El tiempo que se tarda en ensamblar cada pieza es:\n",
    "\n",
    "* A: 2 semanas\n",
    "\n",
    "* B: 1 semana\n",
    "\n",
    "* C: 4 semanas\n",
    "\n",
    "* D: 3 semanas\n",
    "\n",
    "* E: 5 semanas\n",
    "\n",
    "    El orden de ensamblaje de cada pieza requiere que:\n",
    "\n",
    "* A esté realizado antes que C\n",
    "\n",
    "* B esté realizado antes que C\n",
    "\n",
    "* B esté realizado antes que D\n",
    "\n",
    "* C esté realizado antes que E\n",
    "\n",
    "* D esté realizado antes que E\n",
    "\n",
    "    Con esta información:\n",
    "\n",
    "        5.1 Arme el Plan de Orden Parcial.\n",
    "\n",
    "        5.2 Encuentre el Camino Crítico.\n",
    "\n",
    "        5.3 Encuentre los tiempos de relajación.\n",
    "\n",
    "        5.4 Dibuje un diagrama temporal indicando las tareas y los tiempos de relajación encontrados."
   ]
  },
  {
   "cell_type": "markdown",
   "metadata": {},
   "source": []
  },
  {
   "cell_type": "markdown",
   "metadata": {},
   "source": [
    "## Ejercicios de Implementación\n",
    "\n",
    "6. Suponga que tiene un robot de oficina capaz de moverse y tomar y depositar objetos. El robot solo puede tener un objeto a la vez, pero puede conseguir una *caja* en la que depositar varios objetos. Suponga que programa al robot para *ir a la tienda* a comprarle un *café* y en el camino de vuelta tome una *carta* del *buzón* de la oficina para para que se la traiga junto con el café. Describa en lenguaje STRIPS:\n",
    "\n",
    "        6.1 El dominio del robot (nombre, predicados y acciones que puede hacer el robot).\n",
    "\n",
    "        6.2 El problema que se quiere resolver (estado inicial, estado objetivo y objetos del mundo representados).\n",
    "\n",
    "        6.3 Introduzca el código desarrollado en los puntos anteriores en el [planificador online](http://lcas.lincoln.ac.uk/fast-downward/) y obtenga el plan de acción que tomará el robot para cumplir lo solicitado."
   ]
  },
  {
   "cell_type": "code",
   "execution_count": null,
   "metadata": {
    "vscode": {
     "languageId": "plaintext"
    }
   },
   "outputs": [],
   "source": []
  },
  {
   "cell_type": "markdown",
   "metadata": {},
   "source": [
    "\n",
    "# Bibliografía\n",
    "\n",
    "[Russell, S. & Norvig, P. (2004) _Inteligencia Artificial: Un Enfoque Moderno_. Pearson Educación S.A. (2a Ed.) Madrid, España](https://www.academia.edu/8241613/Inteligencia_Aritificial_Un_Enfoque_Moderno_2da_Edici%C3%B3n_Stuart_J_Russell_y_Peter_Norvig)\n",
    "\n",
    "[Poole, D. & Mackworth, A. (2023) _Artificial Intelligence: Foundations of Computational Agents_. Cambridge University Press (3a Ed.) Vancouver, Canada](https://artint.info/3e/html/ArtInt3e.html)"
   ]
  }
 ],
 "metadata": {
  "colab": {
   "authorship_tag": "ABX9TyNkaY83TIo2vj0VLym+xt9a",
   "provenance": []
  },
  "kernelspec": {
   "display_name": "Python 3",
   "name": "python3"
  },
  "language_info": {
   "name": "python"
  }
 },
 "nbformat": 4,
 "nbformat_minor": 0
}
