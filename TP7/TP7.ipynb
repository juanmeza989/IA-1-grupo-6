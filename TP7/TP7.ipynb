{
  "cells": [
    {
      "cell_type": "markdown",
      "metadata": {
        "id": "LfwV8xjb8PeK"
      },
      "source": [
        "<h1> Temas Tratados en el Trabajo Práctico 7 </h1>\n",
        "\n",
        "* Teoría de utilidad.\n",
        "\n",
        "* Toma de decisiones basadas en utilidad.\n",
        "\n",
        "* Valor de la información.\n",
        "\n",
        "* Ganancia y entropía.\n",
        "\n",
        "* Algoritmos basados en la teoría de la decisión.\n",
        "\n",
        "* Sistemas expertos.\n",
        "\n",
        "# Ejercicios Teóricos\n",
        "\n",
        "---- ----\n",
        "\n",
        "## ¿Qué representa una función de utilidad?"
      ]
    },
    {
      "cell_type": "markdown",
      "metadata": {},
      "source": [
        "En el campo de la Inteligencia Artificial, y particularmente en la teoría de la toma de decisiones, la **función de utilidad** es un concepto central que representa el valor subjetivo o la conveniencia que un agente racional le asigna a un determinado resultado o estado del mundo. En términos más simples, es una forma matemática de cuantificar las preferencias de un agente.\n",
        "\n",
        "A diferencia del valor monetario o cualquier otra medida objetiva, la utilidad busca capturar la verdadera satisfacción o insatisfacción que un agente experimenta. La premisa fundamental es que un agente no solo busca un resultado, sino que busca el resultado que le proporcione la mayor utilidad esperada, especialmente en escenarios donde hay incertidumbre.\n",
        "\n",
        "**La función de utilidad en la práctica**\n",
        "\n",
        "La función de utilidad es el pilar de la **teoría de la máxima utilidad esperada**. Un agente que sigue este principio elige la acción que maximiza su utilidad esperada (UE), calculada con la siguiente fórmula:\n",
        "\n",
        "**`UE(a)` = ∑ `P(resultado | a)` * `U(resultado)`**\n",
        "\n",
        "Donde:\n",
        "* **`UE(a)`** es la utilidad esperada de la acción `a`.\n",
        "* **`P(resultado | a)`** es la probabilidad de obtener un resultado específico dada la acción `a`.\n",
        "* **`U(resultado)`** es la utilidad que el agente le asigna a ese resultado.\n",
        "\n",
        "En la Inteligencia Artificial, esto se aplica en herramientas como las **redes de decisión** (diagramas de influencias), que extienden las redes bayesianas al incluir nodos de decisión (rectángulos) y nodos de utilidad (rombos). Estos diagramas permiten al agente modelar la incertidumbre y las posibles consecuencias de sus acciones para tomar la mejor decisión posible.\n",
        "\n",
        "----"
      ]
    },
    {
      "cell_type": "markdown",
      "metadata": {},
      "source": [
        "## Respondan las siguientes preguntas. Cada respuesta corresponde a un axioma de la utilidad, indique cuál se relaciona con cada pregunta y dé una breve explicación de lo que dice el axioma.\n",
        "\n",
        "### ¿Qué color prefieren?"
      ]
    },
    {
      "cell_type": "code",
      "execution_count": null,
      "metadata": {},
      "outputs": [
        {
          "data": {
            "image/png": "[encoded data removed]",
            "text/plain": [
              "<Figure size 500x500 with 2 Axes>"
            ]
          },
          "metadata": {},
          "output_type": "display_data"
        }
      ],
      "source": [
        "import requests\n",
        "from PIL import Image\n",
        "from io import BytesIO\n",
        "import matplotlib.pyplot as plt\n",
        "\n",
        "# URLs directas de Google Drive\n",
        "url1 = \"https://drive.google.com/uc?export=view&id=1aofwvS7bUVmKS6MlTcpL2ZgVa9JuGJex\"\n",
        "url2 = \"https://drive.google.com/uc?export=view&id=1-htp7twx9y5-GpzMUXl9hk-X3kV-BVz6\"\n",
        "\n",
        "# Función para descargar y redimensionar imagen\n",
        "def load_and_resize(url, size=(10, 10)):\n",
        "    response = requests.get(url)\n",
        "    img = Image.open(BytesIO(response.content))\n",
        "    img = img.resize(size, Image.Resampling.LANCZOS)  # redimensionar a 150x150\n",
        "    return img\n",
        "\n",
        "# Cargar imágenes\n",
        "img1 = load_and_resize(url1)\n",
        "img2 = load_and_resize(url2)\n",
        "\n",
        "# Crear figura con 2 columnas\n",
        "fig, axes = plt.subplots(1, 2, figsize=(5, 5))\n",
        "\n",
        "# Mostrar primera imagen\n",
        "axes[0].imshow(img1)\n",
        "axes[0].axis('off')\n",
        "axes[0].set_title(\"Color 1\")\n",
        "\n",
        "# Mostrar segunda imagen\n",
        "axes[1].imshow(img2)\n",
        "axes[1].axis('off')\n",
        "axes[1].set_title(\"Color 2\")\n",
        "\n",
        "plt.tight_layout()\n",
        "plt.show()"
      ]
    },
    {
      "cell_type": "markdown",
      "metadata": {},
      "source": []
    },
    {
      "cell_type": "markdown",
      "metadata": {},
      "source": [
        "### Entre sacar un 10 o un 7 en un parcial, ¿qué prefieren? ¿Y entre el 7 y desaprobar?"
      ]
    },
    {
      "cell_type": "markdown",
      "metadata": {},
      "source": []
    },
    {
      "cell_type": "markdown",
      "metadata": {},
      "source": [
        "\n",
        "### Imagínense que hacen una apuesta de $100 jugando al cara o cruz, si pudieran trucar la moneda para que ustedes ganaran un porcentaje *p* de las veces, ¿en qué valor configurarían *p*?"
      ]
    },
    {
      "cell_type": "markdown",
      "metadata": {},
      "source": []
    },
    {
      "cell_type": "markdown",
      "metadata": {},
      "source": [
        "\n",
        "### En una feria hay dos juegos: uno en el que el premio son $100 y otro en el que el premio es una piedra, ambos con una probabilidad *p* de ganar al juego. ¿A qué juego prefieren jugar?"
      ]
    },
    {
      "cell_type": "markdown",
      "metadata": {},
      "source": []
    },
    {
      "cell_type": "markdown",
      "metadata": {},
      "source": [
        "\n",
        "### En un casino hay dos juegos y en ambos el premio son $1000. El primer juego se gana cuando se tira una moneda y sale cara y el segundo juego se gana cuando sale 6 en un dado. ¿A qué juego prefieren jugar?"
      ]
    },
    {
      "cell_type": "markdown",
      "metadata": {},
      "source": []
    },
    {
      "cell_type": "markdown",
      "metadata": {},
      "source": [
        "\n",
        "### Supongamos que quiere postularse a una beca. Primero, existe un 60% de probabilidad de que le llamen para una entrevista. Si no le llaman, entonces hay un 20% de probabilidad de que le ofrezcan participar en un curso online ¿Cuál es la probabilidad total de cada evento (recibir la beca, recibir el curso o no recibir nada)?"
      ]
    },
    {
      "cell_type": "markdown",
      "metadata": {},
      "source": []
    },
    {
      "cell_type": "markdown",
      "metadata": {},
      "source": [
        "\n",
        "\n",
        "----"
      ]
    },
    {
      "cell_type": "markdown",
      "metadata": {},
      "source": [
        "## Los boletos de una lotería cuestan un dólar. Hay dos juegos posibles con distintos premios: uno de 10 dólares con una probabilidad de uno entre 50 y otro de 1.000.000 dólares con una probabilidad de uno entre 2.000.000.\n",
        "\n",
        "### ¿Cuál es el valor monetario esperado del boleto de lotería?"
      ]
    },
    {
      "cell_type": "markdown",
      "metadata": {},
      "source": [
        "# Problema del boleto de lotería 🎟️\n",
        "\n",
        "Un boleto cuesta **1 dólar**. Hay dos juegos posibles:\n",
        "\n",
        "1.  Premio de **10 dólares** con probabilidad de **$1/50$**.\n",
        "2.  Premio de **$1.000.000$ dólares** con probabilidad de **$1/2.000.000$**.\n",
        "\n",
        "---\n",
        "\n",
        "## Cálculo del valor esperado\n",
        "\n",
        "### Juego 1\n",
        "\n",
        "La probabilidad $P_1$ es:\n",
        "$$P_1 = \\frac{1}{50} = 0.02$$\n",
        "El valor esperado monetario $EM_1$ es:\n",
        "$$EM_1 = P_1 \\times 10 = 0.20 \\, \\text{dólares}$$\n",
        "\n",
        "### Juego 2\n",
        "\n",
        "La probabilidad $P_2$ es:\n",
        "$$P_2 = \\frac{1}{2{,}000{,}000} = 0.0000005$$\n",
        "El valor esperado monetario $EM_2$ es:\n",
        "$$EM_2 = P_2 \\times 1{,}000{,}000 = 0.50 \\, \\text{dólares}$$\n",
        "\n",
        "### Valor esperado total\n",
        "\n",
        "El valor esperado total $EM$ es la suma de los valores esperados de ambos juegos:\n",
        "$$EM = EM_1 + EM_2 = 0.20 + 0.50 = 0.70 \\, \\text{dólares}$$\n",
        "\n",
        "### Valor esperado neto\n",
        "\n",
        "El valor esperado neto $EM_{\\text{neto}}$ se calcula restando el costo del boleto:\n",
        "$$EM_{\\text{neto}} = 0.70 - 1 = -0.30 \\, \\text{dólares}$$\n",
        "\n",
        "---\n"
      ]
    },
    {
      "cell_type": "markdown",
      "metadata": {},
      "source": [
        "\n",
        "### ¿Cuándo es razonable comprar un boleto?"
      ]
    },
    {
      "cell_type": "markdown",
      "metadata": {},
      "source": [
        "\n",
        "## Conclusión 📉\n",
        "\n",
        "* En promedio, **cada boleto hace perder 30 centavos**.\n",
        "* Por valor monetario esperado, **no es razonable comprarlo**.\n",
        "* Sin embargo, algunas personas lo compran porque valoran la **posibilidad de ganar un premio grande** (función de utilidad $\\ne$ valor esperado)."
      ]
    },
    {
      "cell_type": "markdown",
      "metadata": {},
      "source": [
        "----"
      ]
    },
    {
      "cell_type": "markdown",
      "metadata": {},
      "source": [
        "## Hay que reparar una máquina averiada y el mecánico diagnostica que si la avería es leve la reparación costará \\$300, pero si es grave costará \\$1.200. La probabilidad de que la avería sea grave es 2/3. También se ofrece la alternativa de comprar una máquina usada por \\$600. Qué decisión se tomará si:\n",
        "\n",
        "### La función de utilidad fuese la mostrada por el agente rojo.\n",
        "\n",
        "### La función de utilidad fuese la mostrada por el agente verde."
      ]
    },
    {
      "cell_type": "code",
      "execution_count": null,
      "metadata": {},
      "outputs": [
        {
          "data": {
            "image/png": "[encoded data removed]",
            "text/plain": [
              "<Figure size 790x441.25 with 1 Axes>"
            ]
          },
          "metadata": {},
          "output_type": "display_data"
        }
      ],
      "source": [
        "url = \"https://drive.google.com/uc?export=view&id=1vNTlLArEhsxTOIvgs-NJ7NcE0B0JPJcw\"\n",
        "response = requests.get(url)\n",
        "img = Image.open(BytesIO(response.content))\n",
        "\n",
        "# Mostrar con figura más grande\n",
        "plt.figure(figsize=(img.width / 80, img.height / 80))  # ajustá el divisor según densidad deseada\n",
        "plt.imshow(img)\n",
        "plt.axis('off')\n",
        "plt.show()"
      ]
    },
    {
      "cell_type": "markdown",
      "metadata": {},
      "source": [
        "## Fórmulas de utilidad esperada\n",
        "\n",
        "EU(Reparar) = (1/3) · U(300) + (2/3) · U(1200)  \n",
        "EU(Usada)  = U(600)\n",
        "\n",
        "\n",
        "\n",
        "##   Estimaciones de la gráfica\n",
        "\n",
        " Agente rojo\n",
        "- U(300) ≈ 0.20  \n",
        "- U(600) ≈ 0.90  \n",
        "- U(1200) ≈ 1.00  \n",
        "\n",
        "Cálculo:  \n",
        "EU(Reparar) = (1/3)(0.20) + (2/3)(1.00) ≈ 0.733  \n",
        "EU(Usada)  = 0.90  \n",
        "\n",
        "Como EU(Usada) > EU(Reparar). Se elige comprar usada\n",
        "\n",
        "---\n",
        "Agente verde\n",
        "- U(300) ≈ 0.02  \n",
        "- U(600) ≈ 0.33  \n",
        "- U(1200) ≈ 1.00  \n",
        "\n",
        "Cálculo:  \n",
        "EU(Reparar) = (1/3)(0.02) + (2/3)(1.00) ≈ 0.673  \n",
        "EU(Usada)  = 0.33  \n",
        "\n",
        "Como EU(Reparar) > EU(Usada). Se elige reparar.\n"
      ]
    },
    {
      "cell_type": "markdown",
      "metadata": {},
      "source": [
        "----"
      ]
    },
    {
      "cell_type": "markdown",
      "metadata": {},
      "source": [
        "# Ejercicios de Implementación\n",
        "\n",
        "## En unos laboratorios de un hospital se está investigando sobre una sustancia para la curación de una determinada enfermedad. Dicha sustancia ha sido inyectada en varias cobayas enfermas para verificar sus efectos. Los resultados de las pruebas realizadas se sintetizan en la siguiente tabla:\n",
        "\n",
        "| Estado de la enfermedad | Concentración de la sustancia | Número de dosis | Condición física | Efecto |\n",
        "| :--- | :--- | :--- | :--- | :--- |\n",
        "| Incipiente | 75 | 70 | Fuerte | Curación |\n",
        "| Incipiente | 80 | 90 | Fuerte | Defunción |\n",
        "| Incipiente | 85 | 85 | Débil | Defunción |\n",
        "| Incipiente | 62 | 95 | Débil | Defunción |\n",
        "| Incipiente | 79 | 70 | Débil | Curación |\n",
        "| Avanzado | 72 | 90 | Fuerte | Curación |\n",
        "| Avanzado | 83 | 78 | Débil | Curación |\n",
        "| Avanzado | 64 | 66 | Fuerte | Curación |\n",
        "| Avanzado | 81 | 75 | Débil | Curación |\n",
        "| Terminal | 71 | 80 | Fuerte | Defunción |\n",
        "| Terminal | 65 | 70 | Fuerte | Defunción |\n",
        "| Terminal | 75 | 80 | Débil | Curación |\n",
        "| Terminal | 68 | 80 | Débil | Curación |\n",
        "| Terminal | 70 | 96 | Débil | Curación |\n",
        "\n",
        "Determine las reglas que rigen las condiciones en las que se ha de administrar una sustancia e implemente un sistema experto en CLIPS que determine si un sujeto resultará curado o no."
      ]
    },
    {
      "cell_type": "markdown",
      "metadata": {},
      "source": []
    },
    {
      "cell_type": "markdown",
      "metadata": {},
      "source": [
        "----"
      ]
    },
    {
      "cell_type": "markdown",
      "metadata": {},
      "source": [
        "\n",
        "<h1> Bibliografía </h1>\n",
        "\n",
        "[Russell, S. & Norvig, P. (2004) _Inteligencia Artificial: Un Enfoque Moderno_. Pearson Educación S.A. (2a Ed.) Madrid, España](https://www.academia.edu/8241613/Inteligencia_Aritificial_Un_Enfoque_Moderno_2da_Edici%C3%B3n_Stuart_J_Russell_y_Peter_Norvig)\n",
        "\n",
        "[Poole, D. & Mackworth, A. (2023) _Artificial Intelligence: Foundations of Computational Agents_. Cambridge University Press (3a Ed.) Vancouver, Canada](https://artint.info/3e/html/ArtInt3e.html)"
      ]
    }
  ],
  "metadata": {
    "colab": {
      "provenance": []
    },
    "kernelspec": {
      "display_name": "Python 3",
      "name": "python3"
    },
    "language_info": {
      "codemirror_mode": {
        "name": "ipython",
        "version": 3
      },
      "file_extension": ".py",
      "mimetype": "text/x-python",
      "name": "python",
      "nbconvert_exporter": "python",
      "pygments_lexer": "ipython3",
      "version": "3.11.9"
    }
  },
  "nbformat": 4,
  "nbformat_minor": 0
}
