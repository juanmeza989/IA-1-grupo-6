{
  "cells": [
    {
      "cell_type": "markdown",
      "metadata": {
        "id": "ikz1g3y5HOLb"
      },
      "source": [
        "# Temas Tratados en el Trabajo Práctico 4\n",
        "\n",
        "* Representación del Conocimiento y Razonamiento Lógico.\n",
        "\n",
        "* Estrategias de resolución de hipótesis: Encadenamiento hacia Adelante, Encadenamiento hacia Atrás y Resolución por Contradicción.\n",
        "\n",
        "* Representación basada en circuitos."
      ]
    },
    {
      "cell_type": "markdown",
      "metadata": {},
      "source": [
        "## Ejercicios Teóricos\n",
        "\n",
        "1. ¿Qué es una inferencia?"
      ]
    },
    {
      "cell_type": "markdown",
      "metadata": {},
      "source": [
        "Es el proceso de derivar nuevas sentencias verdaderas a partir de una base de conocimientos usando reglas de deducción válidas"
      ]
    },
    {
      "cell_type": "markdown",
      "metadata": {},
      "source": [
        "2. ¿Cómo se verifica que un modelo se infiere de la base de conocimientos?"
      ]
    },
    {
      "cell_type": "markdown",
      "metadata": {},
      "source": [
        "Para verificar si algo se infiera de la base de conocimientos (BK) hay dos formas:\n",
        "\n",
        "Por significado (semántico):\n",
        "Consiste en mirar todos los casos posibles en los que la BK es verdadera.\n",
        "Si en todos esos casos también se cumple la conclusión que queremos, entonces podemos decir que efectivamente se infiere.\n",
        "(Ejemplo: con una tabla de verdad, revisás que cada vez que la BK es cierta, también lo es la conclusión).\n",
        "\n",
        "Por reglas de deducción (sintáctico):\n",
        "Consiste en aplicar paso a paso las reglas de la BK hasta ver si logramos llegar a la conclusión.\n",
        "Si a partir de las reglas y hechos de la BK podemos derivar la conclusión, significa que se infiere.\n",
        "(Ejemplo: usar encadenamiento hacia adelante o hacia atrás hasta alcanzar la hipótesis)."
      ]
    },
    {
      "cell_type": "markdown",
      "metadata": {},
      "source": [
        "3. Observe la siguiente base de conocimiento:\n",
        "\n",
        "$R1: b ∧ c → a$\n",
        "\n",
        "$R2: d ∧ e → b$\n",
        "\n",
        "$R3: g ∧ e → b$\n",
        "\n",
        "$R4: e → c$\n",
        "\n",
        "$R5: d$\n",
        "\n",
        "$R6: e$\n",
        "\n",
        "$R7: a ∧ g → f$\n",
        "\n",
        "3.1 ¿Cómo se puede probar que $a = True$ a través del encadenamiento hacia adelante? Este método solamente usa reglas ya incorporadas a la base de conocimiento para inferir la hipótesis, ¿qué propiedad debe tener el algoritmo para asegurar que esta inferencia sea posible?\n",
        "\n",
        "3.2 ¿Cómo se puede probar que $a = True$ a través del encadenamiento hacia atrás? Este método asigna un valor de verdad a la hipótesis y deriva las sentencias de la base de conocimiento, ¿qué propiedad debe tener el algoritmo para asegurar que esta derivación sea posible?\n",
        "\n",
        "3.3 Exprese la base de conocimiento en su Forma Normal Conjuntiva. A continuación, demuestre por contradicción que $a = True$."
      ]
    },
    {
      "cell_type": "markdown",
      "metadata": {},
      "source": [
        "3.1 Encadenamiento hacia adelante  \n",
        "\n",
        "El encadenamiento hacia adelante arranca con los **hechos que ya conocemos** (en este caso: que `d` y `e` son verdaderos) y va aplicando las reglas como si fueran recetas.\n",
        "\n",
        "1. Como `d` y `e` son verdaderos, la regla **R2** nos dice que entonces `b` también lo es.  \n",
        "2. Como `e` es verdadero, la regla **R4** nos dice que entonces `c` también lo es.  \n",
        "3. Ahora, como ya tenemos `b` y `c`, la regla **R1** nos dice que `a` es verdadero.  \n",
        "\n",
        "\n",
        "3.2 Encadenamiento hacia atrás  \n",
        "\n",
        "El encadenamiento hacia atrás parte de lo que **queremos probar** (en este caso: `a`) e intenta justificarlo.  \n",
        "\n",
        "1. Para que `a` sea verdadero, la regla **R1** nos dice que necesitamos que `b` y `c` lo sean.  \n",
        "   - Para `b`: la regla **R2** dice que se cumple si tenemos `d` y `e`. Y ya sabemos que ambos son hechos.  \n",
        "   - Para `c`: la regla **R4** dice que se cumple si tenemos `e`. Y ya sabemos que `e` es hecho.  \n",
        "2. Como tanto `b` como `c` se cumplen, entonces `a` también se cumple.  \n",
        "\n",
        "\n",
        "3.3 Demostración por contradicción  \n",
        "\n",
        "La idea es probar que `a` es verdadero **suponiendo lo contrario** y viendo si eso lleva a una contradicción.  \n",
        "\n",
        "1. Supongamos que `a` es falso.  \n",
        "2. A partir de los hechos `d` y `e`, la regla **R2** nos dice que `b` es verdadero.  \n",
        "3. Con `e`, la regla **R4** nos dice que `c` es verdadero.  \n",
        "4. Como ahora tenemos `b` y `c`, la regla **R1** nos dice que `a` debe ser verdadero.  \n",
        "5. Pero eso contradice nuestra suposición de que `a` era falso.  \n",
        " \n"
      ]
    },
    {
      "cell_type": "markdown",
      "metadata": {},
      "source": [
        "4. Diseñe con lógica proposicional basada en circuitos las proposiciones *OrientadoDerecha* y *Agente ubicado en la casilla [1,2]* para el mundo de wumpus de 4x4. Dibuje el circuito correspondiente."
      ]
    },
    {
      "cell_type": "markdown",
      "metadata": {},
      "source": [
        "(C1,2 ∧ Od) ∧ Avanzar = C1,3\n",
        "\n",
        "![image.png](moveV2.png)"
      ]
    },
    {
      "cell_type": "markdown",
      "metadata": {},
      "source": [
        "\n",
        "5. El nonograma es un juego en el cual se posee un tablero en blanco y cada fila y columna presenta información sobre la longitud de un bloque en dicha fila/columna. Además, la leyenda puede indicar más de un número, indicando esto que existen varios bloques de las longitudes mostradas por la leyenda y en el mismo orden, separados por al menos un espacio vacío.\n",
        "\n",
        "Resuelva el nonograma de la imagen de abajo escribiendo en primer lugar cada regla que puede incorporarse a la base de conocimientos inicial e incorporando cada inferencia que realice."
      ]
    },
    {
      "cell_type": "code",
      "execution_count": 1,
      "metadata": {},
      "outputs": [
        {
          "data": {
            "image/png": "[encoded data removed]",
            "text/plain": [
              "<Figure size 640x480 with 1 Axes>"
            ]
          },
          "metadata": {},
          "output_type": "display_data"
        }
      ],
      "source": [
        "import requests\n",
        "from PIL import Image\n",
        "from io import BytesIO\n",
        "import matplotlib.pyplot as plt\n",
        "\n",
        "# URL directa de Google Drive\n",
        "url = \"https://drive.google.com/uc?export=view&id=1SKiXvrI_TX-U4sbw60TYSRmaNYyFixmI\"\n",
        "\n",
        "# Descargar la imagen\n",
        "response = requests.get(url)\n",
        "img = Image.open(BytesIO(response.content))\n",
        "\n",
        "# Mostrar la imagen\n",
        "plt.imshow(img)\n",
        "plt.axis('off')  # Ocultar ejes\n",
        "plt.show()"
      ]
    },
    {
      "cell_type": "markdown",
      "metadata": {},
      "source": []
    },
    {
      "cell_type": "markdown",
      "metadata": {},
      "source": [
        "# Nonograma 4x4\n",
        "\n",
        "Denoto celdas por `(fila, columna)` y usaré `■ = llena` y `· = vacía`.\n",
        "\n",
        "## Pistas\n",
        "\n",
        "**Por fila:**  \n",
        "- F1 = [1,1]  \n",
        "- F2 = [4]  \n",
        "- F3 = [2,1]  \n",
        "- F4 = [3]  \n",
        "\n",
        "**Por columna:**  \n",
        "- C1 = [3]  \n",
        "- C2 = [3]  \n",
        "- C3 = [2,1]  \n",
        "- C4 = [3]  \n",
        "\n",
        "## Reglas básicas\n",
        "\n",
        "1. En una fila/columna con pista “n” y longitud 4:\n",
        "   - `[4]` ⇒ las 4 celdas son `■`.  \n",
        "   - `[3]` ⇒ hay exactamente 3 `■` contiguas.  \n",
        "   - `[1,1]` ⇒ dos `■` separadas por al menos una `·`.  \n",
        "   - `[2,1]` ⇒ un bloque de 2 `■`, luego (al menos) una `·`, luego una `■`.  \n",
        "2. Toda inferencia debe respetar simultáneamente filas y columnas.\n",
        "\n",
        "## Inferencias paso a paso\n",
        "\n",
        "**A. F2 = [4]**  \n",
        "\n",
        "(2,1)(2,2)(2,3)(2,4) = `■ ■ ■ ■`\n",
        "\n",
        "Esto “ancla” una `■` en cada columna.\n",
        "\n",
        "**B. C3 = [2,1]** con `(2,3)=■`  \n",
        "- El bloque de 2 solo puede ser `(1,3)-(2,3)`; si fuera `(2,3)-(3,3)` no queda espacio para la `·` obligatoria antes del “1”.  \n",
        "- ⇒ `(1,3)=■`, `(3,3)=·` y el “1” restante cae en `(4,3)=■`.\n",
        "\n",
        "**C. F1 = [1,1]** y ya tenemos `(1,3)=■`  \n",
        "- La otra `■` no puede ser adyacente (ni en c2 ni en c4).  \n",
        "- ⇒ `(1,1)=■`, `(1,2)=·`, `(1,4)=·`.\n",
        "\n",
        "**D. C1 = [3]** y ya `(1,1)=■`, `(2,1)=■`  \n",
        "- Para formar 3 contiguas en una columna de 4, debe ser `(1,1)(2,1)(3,1)=■ ■ ■`  \n",
        "- ⇒ `(3,1)=■`, `(4,1)=·`.\n",
        "\n",
        "**E. C2 = [3]** con `(1,2)=·` y `(2,2)=■`  \n",
        "- Única posibilidad contigua: `(2,2)(3,2)(4,2)=■ ■ ■`  \n",
        "- ⇒ `(3,2)=■`, `(4,2)=■`.\n",
        "\n",
        "**F. C4 = [3]** con `(1,4)=·` y `(2,4)=■`  \n",
        "- Única posibilidad contigua: `(2,4)(3,4)(4,4)=■ ■ ■`  \n",
        "- ⇒ `(3,4)=■`, `(4,4)=■`.\n",
        "\n",
        "**G. Comprobaciones por filas restantes:**  \n",
        "- F3 ahora es `(3,1)(3,2)=■ ■`, `(3,3)=·`, `(3,4)=■` ⇒ cumple `[2,1]`.  \n",
        "- F4 es `(4,1)=·`, `(4,2)(4,3)(4,4)=■ ■ ■` ⇒ cumple `[3]`.\n",
        "\n",
        "## Solución final\n",
        "\n",
        "F1: `■ · ■ ·`\n",
        "F2: `■ ■ ■ ■`\n",
        "F3: `■ ■ · ■`\n",
        "F4: `· ■ ■ ■`\n",
        "\n",
        "\n",
        "**Coordenadas llenas:**  \n",
        "`(1,1)(1,3)(2,1)(2,2)(2,3)(2,4)(3,1)(3,2)(3,4)(4,2)(4,3)(4,4)`\n"
      ]
    },
    {
      "cell_type": "markdown",
      "metadata": {},
      "source": [
        "## Ejercicios de Implementación\n",
        "\n",
        "6. Implementar un motor de inferencia con encadenamiento hacia adelante. Pruébelo con las proposiciones del ejercicio 3."
      ]
    },
    {
      "cell_type": "code",
      "execution_count": 31,
      "metadata": {},
      "outputs": [
        {
          "name": "stdout",
          "output_type": "stream",
          "text": [
            "--- Aplicando encadenamiento hacia adelante ---\n",
            "Regla: d ∧ e → b\n",
            "Se ha inferido el hecho 'b'\n",
            "Regla: e → c\n",
            "Se ha inferido el hecho 'c'\n",
            "Regla: b ∧ c → a\n",
            "Se ha inferido el hecho 'a'\n",
            "\n",
            "Hechos finales inferidos:\n",
            "['a', 'b', 'c', 'd', 'e']\n"
          ]
        }
      ],
      "source": [
        "# 1. Base de conocimiento\n",
        "# Las reglas se representan como tuplas: (antecedentes, consecuente)\n",
        "# Los antecedentes son una lista de strings\n",
        "reglas = [\n",
        "    (['b', 'c'], 'a'),  # R1: b ∧ c → a\n",
        "    (['d', 'e'], 'b'),  # R2: d ∧ e → b\n",
        "    (['g', 'e'], 'b'),  # R3: g ∧ e → b\n",
        "    (['e'], 'c'),       # R4: e → c\n",
        "    (['a', 'g'], 'f')   # R7: a ∧ g → f\n",
        "]\n",
        "\n",
        "# Hechos iniciales (hechos que no dependen de ninguna regla)\n",
        "hechos_iniciales = ['d', 'e'] # R5: d, R6: e\n",
        "\n",
        "# 2. Motor de inferencia con encadenamiento hacia adelante\n",
        "def encadenamiento_hacia_adelante(reglas, hechos_iniciales):\n",
        "    hechos_conocidos = set(hechos_iniciales)\n",
        "    hechos_nuevos = set(hechos_iniciales)\n",
        "    \n",
        "    while hechos_nuevos:\n",
        "        hechos_recientemente_derivados = set()\n",
        "        \n",
        "        for antecedente, consecuente in reglas:\n",
        "            # Comprobar si el antecedente de la regla es verdadero\n",
        "            antecedente_verdadero = all(h in hechos_conocidos for h in antecedente)\n",
        "            \n",
        "            # Si el antecedente es verdadero y la conclusión no se conoce aún\n",
        "            if antecedente_verdadero and consecuente not in hechos_conocidos:\n",
        "                print(f\"Regla: {' ∧ '.join(antecedente)} → {consecuente}\")\n",
        "                print(f\"Se ha inferido el hecho '{consecuente}'\")\n",
        "                hechos_recientemente_derivados.add(consecuente)\n",
        "        \n",
        "        # Si no se ha derivado nada nuevo, se termina el bucle\n",
        "        if not hechos_recientemente_derivados:\n",
        "            break\n",
        "        \n",
        "        # Actualizar la lista de hechos conocidos para la próxima iteración\n",
        "        hechos_conocidos.update(hechos_recientemente_derivados)\n",
        "        hechos_nuevos = hechos_recientemente_derivados\n",
        "        \n",
        "    return sorted(list(hechos_conocidos))\n",
        "\n",
        "# 3. Ejecución y prueba\n",
        "print(\"--- Aplicando encadenamiento hacia adelante ---\")\n",
        "hechos_finales = encadenamiento_hacia_adelante(reglas, hechos_iniciales)\n",
        "print(\"\\nHechos finales inferidos:\")\n",
        "print(hechos_finales)"
      ]
    },
    {
      "cell_type": "code",
      "execution_count": 32,
      "metadata": {},
      "outputs": [
        {
          "name": "stdout",
          "output_type": "stream",
          "text": [
            "\n",
            "--- Paso 1 ---\n",
            "Se cumple la regla: Implies(d & e, b), agregando hecho: b\n",
            "Se cumple la regla: Implies(e, c), agregando hecho: c\n",
            "\n",
            "--- Paso 2 ---\n",
            "Se cumple la regla: Implies(b & c, a), agregando hecho: a\n",
            "\n",
            "--- Paso 3 ---\n",
            "\n",
            "Hechos finales inferidos: {c, e, b, a, d}\n"
          ]
        },
        {
          "data": {
            "text/plain": [
              "{a, b, c, d, e}"
            ]
          },
          "execution_count": 32,
          "metadata": {},
          "output_type": "execute_result"
        }
      ],
      "source": [
        "# Versión con sympy\n",
        "\n",
        "from sympy import symbols, And, Implies\n",
        "\n",
        "# Símbolos\n",
        "a, b, c, d, e, f, g = symbols('a b c d e f g')\n",
        "\n",
        "# Reglas\n",
        "R1 = Implies(And(b, c), a)\n",
        "R2 = Implies(And(d, e), b)\n",
        "R3 = Implies(And(g, e), b)\n",
        "R4 = Implies(e, c)\n",
        "R7 = Implies(And(a, g), f)\n",
        "\n",
        "rules = [R1, R2, R3, R4, R7]\n",
        "\n",
        "# Hechos iniciales\n",
        "facts = {d, e}\n",
        "\n",
        "def forward_chaining_steps(rules, known_facts):\n",
        "    new_facts = set(known_facts)\n",
        "    added = True\n",
        "    step = 1\n",
        "    while added:\n",
        "        added = False\n",
        "        print(f\"\\n--- Paso {step} ---\")\n",
        "        for rule in rules:\n",
        "            if isinstance(rule, Implies):\n",
        "                premises = rule.args[0].args if isinstance(rule.args[0], And) else [rule.args[0]]\n",
        "                if all(premise in new_facts for premise in premises) and rule.args[1] not in new_facts:\n",
        "                    print(f\"Se cumple la regla: {rule}, agregando hecho: {rule.args[1]}\")\n",
        "                    new_facts.add(rule.args[1])\n",
        "                    added = True\n",
        "        step += 1\n",
        "    print(\"\\nHechos finales inferidos:\", new_facts)\n",
        "    return new_facts\n",
        "\n",
        "forward_chaining_steps(rules, facts)\n"
      ]
    },
    {
      "cell_type": "markdown",
      "metadata": {},
      "source": [
        "7. Implementar un motor de inferencia con encadenamiento hacia atrás. Pruébelo con las proposiciones del ejercicio 3."
      ]
    },
    {
      "cell_type": "code",
      "execution_count": 27,
      "metadata": {},
      "outputs": [
        {
          "name": "stdout",
          "output_type": "stream",
          "text": [
            "--- Aplicando encadenamiento hacia atrás para probar 'g' ---\n",
            "Buscando objetivo: 'g'\n",
            "No hay reglas que puedan inferir 'g'.\n",
            "\n",
            "¡Conclusión: 'g' es falso! ❌\n"
          ]
        }
      ],
      "source": [
        "# 1. Base de conocimiento\n",
        "# Para el encadenamiento hacia atrás, es más eficiente usar un diccionario\n",
        "# donde la clave es el consecuente y el valor son los antecedentes.\n",
        "reglas_hacia_atras = {\n",
        "    'a': [['b', 'c']],    # R1: b ∧ c → a\n",
        "    'b': [['d', 'e'], ['g', 'e']], # R2: d ∧ e → b, R3: g ∧ e → b\n",
        "    'c': [['e']],         # R4: e → c\n",
        "    'f': [['a', 'g']]     # R7: a ∧ g → f\n",
        "}\n",
        "\n",
        "# Hechos iniciales\n",
        "hechos_iniciales = {'d', 'e'} # R5: d, R6: e\n",
        "\n",
        "# 2. Motor de inferencia con encadenamiento hacia atrás\n",
        "def encadenamiento_hacia_atras(objetivo, hechos_conocidos, reglas):\n",
        "    print(f\"Buscando objetivo: '{objetivo}'\")\n",
        "\n",
        "    # Si el objetivo ya es un hecho conocido, la búsqueda termina con éxito\n",
        "    if objetivo in hechos_conocidos:\n",
        "        print(f\"El objetivo '{objetivo}' ya es un hecho conocido.\")\n",
        "        return True\n",
        "\n",
        "    # Buscar reglas que puedan inferir el objetivo\n",
        "    if objetivo not in reglas:\n",
        "        print(f\"No hay reglas que puedan inferir '{objetivo}'.\")\n",
        "        return False\n",
        "\n",
        "    # Probar cada conjunto de antecedentes para inferir el objetivo\n",
        "    for antecedentes in reglas[objetivo]:\n",
        "        todos_los_antecedentes_probados = True\n",
        "        print(f\" Intentando probar '{objetivo}' con los antecedentes: {antecedentes}\")\n",
        "        \n",
        "        for antecedente in antecedentes:\n",
        "            # Llamada recursiva para probar cada antecedente como un nuevo objetivo\n",
        "            if not encadenamiento_hacia_atras(antecedente, hechos_conocidos, reglas):\n",
        "                todos_los_antecedentes_probados = False\n",
        "                break  # Si un antecedente falla, no es necesario probar el resto\n",
        "        \n",
        "        if todos_los_antecedentes_probados:\n",
        "            print(f\"El objetivo '{objetivo}' se ha probado con éxito.\")\n",
        "            return True\n",
        "\n",
        "    print(f\"El objetivo '{objetivo}' no se puede probar.\")\n",
        "    return False\n",
        "\n",
        "# 3. Prueba\n",
        "# Para probar el motor, seleccionamos un objetivo.\n",
        "objetivo_a_probar = 'g'\n",
        "print(f\"--- Aplicando encadenamiento hacia atrás para probar '{objetivo_a_probar}' ---\")\n",
        "if encadenamiento_hacia_atras(objetivo_a_probar, hechos_iniciales, reglas_hacia_atras):\n",
        "    print(f\"\\n¡Conclusión: '{objetivo_a_probar}' es verdadero! ✅\")\n",
        "else:\n",
        "    print(f\"\\n¡Conclusión: '{objetivo_a_probar}' es falso! ❌\")"
      ]
    },
    {
      "cell_type": "code",
      "execution_count": 33,
      "metadata": {},
      "outputs": [
        {
          "name": "stdout",
          "output_type": "stream",
          "text": [
            "Intentando inferir 'f' usando la regla: Implies(a & g, f)\n",
            "  Intentando inferir 'a' usando la regla: Implies(b & c, a)\n",
            "    Intentando inferir 'b' usando la regla: Implies(d & e, b)\n",
            "      El hecho 'd' ya es conocido\n",
            "      El hecho 'e' ya es conocido\n",
            "    Todos los antecedentes de 'b' se cumplen, agregando 'b'\n",
            "    Intentando inferir 'c' usando la regla: Implies(e, c)\n",
            "      El hecho 'e' ya es conocido\n",
            "    Todos los antecedentes de 'c' se cumplen, agregando 'c'\n",
            "  Todos los antecedentes de 'a' se cumplen, agregando 'a'\n",
            "  No se puede inferir 'g' con los hechos conocidos\n",
            "No se puede inferir 'f' con los hechos conocidos\n",
            "\n",
            "Resultado final: False\n"
          ]
        }
      ],
      "source": [
        "# Versión con sympy\n",
        "\n",
        "from sympy import symbols, And, Implies\n",
        "\n",
        "# -------------------------\n",
        "# Definir símbolos\n",
        "# -------------------------\n",
        "a, b, c, d, e, f, g = symbols('a b c d e f g')\n",
        "\n",
        "# -------------------------\n",
        "# Definir reglas\n",
        "# -------------------------\n",
        "R1 = Implies(And(b, c), a)\n",
        "R2 = Implies(And(d, e), b)\n",
        "R3 = Implies(And(g, e), b)\n",
        "R4 = Implies(e, c)\n",
        "R7 = Implies(And(a, g), f)\n",
        "\n",
        "rules = [R1, R2, R3, R4, R7]\n",
        "\n",
        "# -------------------------\n",
        "# Hechos iniciales\n",
        "# -------------------------\n",
        "facts = {d, e}\n",
        "\n",
        "# -------------------------\n",
        "# Motor de inferencia backward chaining paso a paso\n",
        "# -------------------------\n",
        "def backward_chaining_steps(goal, rules, known_facts, depth=0):\n",
        "    indent = \"  \" * depth\n",
        "    if goal in known_facts:\n",
        "        print(f\"{indent}El hecho '{goal}' ya es conocido\")\n",
        "        return True\n",
        "    \n",
        "    for rule in rules:\n",
        "        if isinstance(rule, Implies) and rule.args[1] == goal:\n",
        "            premises = rule.args[0].args if isinstance(rule.args[0], And) else [rule.args[0]]\n",
        "            print(f\"{indent}Intentando inferir '{goal}' usando la regla: {rule}\")\n",
        "            if all(backward_chaining_steps(p, rules, known_facts, depth + 1) for p in premises):\n",
        "                print(f\"{indent}Todos los antecedentes de '{goal}' se cumplen, agregando '{goal}'\")\n",
        "                known_facts.add(goal)\n",
        "                return True\n",
        "\n",
        "    print(f\"{indent}No se puede inferir '{goal}' con los hechos conocidos\")\n",
        "    return False\n",
        "\n",
        "# -------------------------\n",
        "# Ejecutar backward chaining\n",
        "# -------------------------\n",
        "goal = f\n",
        "result = backward_chaining_steps(goal, rules, set(facts))\n",
        "\n",
        "print(\"\\nResultado final:\", result)\n"
      ]
    },
    {
      "cell_type": "markdown",
      "metadata": {},
      "source": [
        "8. Implementar un motor de inferencia por contradicción que detecte si el conjunto de proposiciones del ejercicio 3 es inconsistente."
      ]
    },
    {
      "cell_type": "code",
      "execution_count": 28,
      "metadata": {},
      "outputs": [
        {
          "name": "stdout",
          "output_type": "stream",
          "text": [
            "Cláusulas iniciales:\n",
            "['¬b', '¬c', 'a']\n",
            "['¬d', '¬e', 'b']\n",
            "['¬g', '¬e', 'b']\n",
            "['¬e', 'c']\n",
            "['d']\n",
            "['e']\n",
            "['¬a', '¬g', 'f']\n",
            "\n",
            "El conjunto de proposiciones es consistente. ✅\n",
            "\n",
            "Se ha derivado la cláusula vacía [] a partir de ['a'] y ['¬a'].\n",
            "\n",
            "¡El conjunto de proposiciones es inconsistente! ❌\n"
          ]
        }
      ],
      "source": [
        "# Función para convertir una proposición a su forma clausal\n",
        "def a_clausal(prop):\n",
        "    if '→' in prop:\n",
        "        antecedente, consecuente = prop.split('→')\n",
        "        antecedente = antecedente.replace(' ', '')\n",
        "        consecuente = consecuente.replace(' ', '')\n",
        "        # ¬(A ∧ B) ∨ C  = ¬A ∨ ¬B ∨ C\n",
        "        antecedentes = antecedente.split('∧')\n",
        "        return [f'¬{lit}' for lit in antecedentes] + [consecuente]\n",
        "    else:\n",
        "        return [prop]\n",
        "\n",
        "# 1. Base de Conocimiento en formato de texto\n",
        "proposiciones = [\n",
        "    'b ∧ c → a',\n",
        "    'd ∧ e → b',\n",
        "    'g ∧ e → b',\n",
        "    'e → c',\n",
        "    'd',\n",
        "    'e',\n",
        "    'a ∧ g → f'\n",
        "]\n",
        "\n",
        "# 2. Convertir todas las proposiciones a cláusulas\n",
        "clausulas = [a_clausal(p) for p in proposiciones]\n",
        "\n",
        "\n",
        "print(\"Cláusulas iniciales:\")\n",
        "for c in clausulas:\n",
        "    print(c)\n",
        "\n",
        "# 3. Motor de inferencia por resolución\n",
        "def resolver(clausulas):\n",
        "    resolventes_nuevos = set()\n",
        "    for i in range(len(clausulas)):\n",
        "        for j in range(i + 1, len(clausulas)):\n",
        "            clausula1 = clausulas[i]\n",
        "            clausula2 = clausulas[j]\n",
        "            \n",
        "            # Buscar literales complementarios\n",
        "            for lit1 in clausula1:\n",
        "                if lit1.startswith('¬'):\n",
        "                    complemento = lit1[1:]\n",
        "                else:\n",
        "                    complemento = '¬' + lit1\n",
        "                \n",
        "                if complemento in clausula2:\n",
        "                    # Derivar una nueva cláusula\n",
        "                    nueva_clausula = list(set(clausula1 + clausula2))\n",
        "                    nueva_clausula.remove(lit1)\n",
        "                    nueva_clausula.remove(complemento)\n",
        "                    \n",
        "                    # Si la nueva cláusula es vacía, encontramos una contradicción\n",
        "                    if not nueva_clausula:\n",
        "                        print(f\"\\nSe ha derivado la cláusula vacía [] a partir de {clausula1} y {clausula2}.\")\n",
        "                        return True\n",
        "                    \n",
        "                    # Si la nueva cláusula no existe, la añadimos al conjunto de resolventes\n",
        "                    if tuple(sorted(nueva_clausula)) not in [tuple(sorted(c)) for c in clausulas] and \\\n",
        "                       tuple(sorted(nueva_clausula)) not in resolventes_nuevos:\n",
        "                        resolventes_nuevos.add(tuple(nueva_clausula))\n",
        "\n",
        "    # Si no se derivaron nuevos resolventes, el proceso termina\n",
        "    if not resolventes_nuevos:\n",
        "        return False\n",
        "    \n",
        "    # Añadir los nuevos resolventes y continuar el proceso\n",
        "    clausulas.extend([list(r) for r in resolventes_nuevos])\n",
        "    return resolver(clausulas)\n",
        "\n",
        "# Ejecutar el motor de inferencia\n",
        "if resolver(clausulas):\n",
        "    print(\"\\n¡El conjunto de proposiciones es inconsistente! ❌\")\n",
        "else:\n",
        "    print(\"\\nEl conjunto de proposiciones es consistente. ✅\")\n",
        "    \n",
        "# Para demostrar la inconsistencia, añadimos la negación de una proposición que se puede inferir\n",
        "# Como sabemos que podemos inferir 'a', añadimos su negación '¬a'\n",
        "clausulas.append(['¬a'])\n",
        "\n",
        "if resolver(clausulas):\n",
        "    print(\"\\n¡El conjunto de proposiciones es inconsistente! ❌\")\n",
        "else:\n",
        "    print(\"\\nEl conjunto de proposiciones es consistente. ✅\")\n"
      ]
    },
    {
      "cell_type": "code",
      "execution_count": 34,
      "metadata": {},
      "outputs": [
        {
          "name": "stdout",
          "output_type": "stream",
          "text": [
            "Base de conocimiento (KB): d & e & (Implies(e, c)) & (Implies(a & g, f)) & (Implies(b & c, a)) & (Implies(d & e, b)) & (Implies(e & g, b))\n",
            "\n",
            "¿La KB es consistente?: True\n",
            "¿La KB con ¬d es consistente?: False\n"
          ]
        }
      ],
      "source": [
        "#Version con sympy\n",
        "\n",
        "from sympy import symbols\n",
        "from sympy.logic.boolalg import Implies, And, Not\n",
        "from sympy.logic.inference import satisfiable\n",
        "\n",
        "\n",
        "# Definir símbolos proposicionales\n",
        "a, b, c, d, e, f, g = symbols('a b c d e f g')\n",
        "\n",
        "# Definir las reglas como fórmulas lógicas\n",
        "R1 = Implies(And(b, c), a)\n",
        "R2 = Implies(And(d, e), b)\n",
        "R3 = Implies(And(g, e), b)\n",
        "R4 = Implies(e, c)\n",
        "R7 = Implies(And(a, g), f)\n",
        "\n",
        "# Hechos iniciales\n",
        "facts = And(d, e)   # R5 y R6\n",
        "\n",
        "# Conjunto de conocimiento (KB)\n",
        "KB = And(R1, R2, R3, R4, R7, facts)\n",
        "\n",
        "print(\"Base de conocimiento (KB):\", KB)\n",
        "\n",
        "# --- Verificar consistencia ---\n",
        "is_consistent = satisfiable(KB)\n",
        "print(\"\\n¿La KB es consistente?:\", bool(is_consistent))\n",
        "\n",
        "# --- Verificar contradicción explícita (ejemplo: agregar ¬d) ---\n",
        "KB_contra = And(KB, Not(d))\n",
        "is_consistent2 = satisfiable(KB_contra)\n",
        "print(\"¿La KB con ¬d es consistente?:\", bool(is_consistent2))\n"
      ]
    },
    {
      "cell_type": "markdown",
      "metadata": {},
      "source": [
        "# Bibliografía\n",
        "\n",
        "[Russell, S. & Norvig, P. (2004) _Inteligencia Artificial: Un Enfoque Moderno_. Pearson Educación S.A. (2a Ed.) Madrid, España](https://www.academia.edu/8241613/Inteligencia_Aritificial_Un_Enfoque_Moderno_2da_Edici%C3%B3n_Stuart_J_Russell_y_Peter_Norvig)\n",
        "\n",
        "[Poole, D. & Mackworth, A. (2023) _Artificial Intelligence: Foundations of Computational Agents_. Cambridge University Press (3a Ed.) Vancouver, Canada](https://artint.info/3e/html/ArtInt3e.html)"
      ]
    }
  ],
  "metadata": {
    "colab": {
      "provenance": []
    },
    "kernelspec": {
      "display_name": "EntornoIA",
      "language": "python",
      "name": "python3"
    },
    "language_info": {
      "codemirror_mode": {
        "name": "ipython",
        "version": 3
      },
      "file_extension": ".py",
      "mimetype": "text/x-python",
      "name": "python",
      "nbconvert_exporter": "python",
      "pygments_lexer": "ipython3",
      "version": "3.13.5"
    }
  },
  "nbformat": 4,
  "nbformat_minor": 0
}
