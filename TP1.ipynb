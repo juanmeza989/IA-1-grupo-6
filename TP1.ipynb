{
  "cells": [
    {
      "attachments": {},
      "cell_type": "markdown",
      "metadata": {
        "id": "jWUX78DM7n9T"
      },
      "source": [
        "# Temas Tratados en el Trabajo Práctico 1\n",
        "\n",
        "* Diferencia entre Inteligencia e Inteligencia Artificial.\n",
        "\n",
        "* Concepto de omnisciencia, aprendizaje y autonomía.\n",
        "\n",
        "* Definición de Agente y sus características. Clasificación de Agentes según su estructura.\n",
        "\n",
        "* Identificación y categorización del Entorno de Trabajo en tabla REAS.\n",
        "\n",
        "* Caracterización del Entorno de Trabajo.\n",
        "\n",
        "# Anotaciones\n",
        "\n",
        "\"Acordarse de la definición de agente\"\n",
        "\n",
        "En IA, un agente es cualquier entidad que percibe su entorno mediante sensores y actúa sobre él mediante actuadores, siguiendo algún criterio para maximizar su rendimiento. Puede ser físico (como un robot) o virtual (como un programa)."
      ]
    },
    {
      "cell_type": "markdown",
      "metadata": {},
      "source": [
        "# Ejercicios Teóricos\n",
        "\n",
        "#### 1. Defina con sus propias palabras inteligencia natural, inteligencia artificial y agente."
      ]
    },
    {
      "cell_type": "markdown",
      "metadata": {},
      "source": [
        "* Inteligencia Natural: Inteligencia de los seres vivos, los cuales tienen la capacidad de aprender de la experiencia a travez del razonamiento aunque este puede verse afectado por las emociones.\n",
        "\n",
        "* Inteligencia Artificial: Programa donde se busca que éste tome desiciones y/o aprenda de la experiencia a travez de una retroalimentación.\n",
        "\n",
        "* Agente: Aquel programa, mecanismo o ambos trabajando en conjunto en donde a travez de una retroalimentación ejecuta o no una acción de forma que se maximize su rendimiento."
      ]
    },
    {
      "cell_type": "markdown",
      "metadata": {},
      "source": [
        "#### 2. ¿Qué es un agente racional?"
      ]
    },
    {
      "cell_type": "markdown",
      "metadata": {},
      "source": [
        "Idem anterior"
      ]
    },
    {
      "cell_type": "markdown",
      "metadata": {},
      "source": [
        "#### 3. ¿Un agente es siempre una computadora?"
      ]
    },
    {
      "cell_type": "markdown",
      "metadata": {},
      "source": [
        "No, puede ser un simple mecanismo el cual ejecute una acción dependiendo del entorno, por ejemplo, un interruptor termomagnetico el cual debido a un estimulo  físico (sobrecarga) se ejecuta una acción."
      ]
    },
    {
      "cell_type": "markdown",
      "metadata": {},
      "source": [
        "#### 4. Defina Omnisciencia, Aprendizaje y Autonomía."
      ]
    },
    {
      "cell_type": "markdown",
      "metadata": {},
      "source": [
        "* Omnisciencia: es el conocimiento completo y absoluto de todas las cosas reales y posibles. Es la capacidad de saber todo lo que ha sucedido, lo que está sucediendo y lo que sucederá. \n",
        "\n",
        "* Aprendizaje: es el proceso mediante el cual se adquieren, modifican y desarrollan conocimientos, habilidades, conductas y valores a través de la experiencia, el estudio, la instrucción, el razonamiento y la observación. \n",
        "\n",
        "* Autonomía: es la capacidad de un individuo o entidad para tomar sus propias decisiones, regirse por sus propias normas y actuar de forma independiente, libre de presiones externas o internas. "
      ]
    },
    {
      "cell_type": "markdown",
      "metadata": {},
      "source": [
        "#### 5. Defina cada tipo de agente en función de su **estructura** y dé un ejemplo de cada categoría."
      ]
    },
    {
      "cell_type": "markdown",
      "metadata": {},
      "source": [
        "* 1. Total o parcialmente observable\n",
        "\n",
        "Un entorno es totalmente observable si el agente puede percibir el estado completo del mundo a través de sus sensores en cada momento. Un agente en este tipo de entorno no necesita mantener un estado interno para saber lo que sucede.\n",
        "\n",
        "Un entorno es parcialmente observable si los sensores del agente no pueden acceder a toda la información relevante. La falta de visibilidad puede deberse a sensores defectuosos, ruido o a que simplemente el agente no puede ver ciertas partes del mundo.\n",
        "\n",
        "* 2. Determinista o estocástico\n",
        "\n",
        "Un entorno es determinista si el siguiente estado está completamente determinado por el estado actual y la acción del agente. No hay incertidumbre en los resultados.\n",
        "\n",
        "Un entorno es estocástico si la siguiente acción no se puede predecir con certeza, ya que puede haber factores aleatorios o impredecibles que influyan.\n",
        "\n",
        "* 3. Episódico o secuencial\n",
        "\n",
        "Un entorno es episódico si las decisiones del agente en cada \"episodio\" son independientes de las decisiones en episodios anteriores. Cada acción solo afecta a lo que sucede en el episodio actual.\n",
        "\n",
        "Un entorno es secuencial si las acciones del agente influyen en los estados futuros y, por tanto, en decisiones posteriores. Es decir, las decisiones tienen consecuencias a largo plazo.\n",
        "\n",
        "* 4. Estático o dinámico\n",
        "\n",
        "Un entorno es estático si no cambia mientras el agente está deliberando o pensando en una acción.\n",
        "\n",
        "Un entorno es dinámico si puede cambiar mientras el agente está en proceso de tomar una decisión.\n",
        "\n",
        "* 5. Discreto o contínuo\n",
        "\n",
        "Un entorno es discreto si el conjunto de percepciones y acciones es finito o \"enumerado\", es decir, se puede contar.\n",
        "\n",
        "Un entorno es continuo si las percepciones, las acciones o el tiempo son infinitos o tienen un rango de valores.\n",
        "\n",
        "* 6. Agente indivisual o multiagente\n",
        "\n",
        "Un entorno es de agente individual si solo hay un agente operando en él.\n",
        "\n",
        "Un entorno es multiagente si hay dos o más agentes. Estos pueden ser cooperativos (trabajando juntos para un objetivo común) o competitivos (con objetivos opuestos).\n"
      ]
    },
    {
      "cell_type": "markdown",
      "metadata": {},
      "source": [
        "#### 6. Para los siguientes entornos de trabajo indique sus **propiedades**:"
      ]
    },
    {
      "cell_type": "markdown",
      "metadata": {},
      "source": [
        "a. Una partida de ajedrez\n",
        "* **Totalmente observable:** Sí, el agente puede ver todas las piezas y sus posiciones en el tablero.\n",
        "* **Determinista:** Sí, los movimientos de las piezas tienen resultados predecibles y no hay azar.\n",
        "* **Secuencial:** Sí, cada movimiento afecta las futuras jugadas y el resultado final.\n",
        "* **Estático:** Sí, porque el entorno solo cambia cuando el agente realiza un movimiento.\n",
        "* **Discreto:** Sí, el número de movimientos, piezas y estados del tablero es finito.\n",
        "* **Multiagente:** Sí, hay dos agentes (los jugadores) compitiendo entre sí.\n",
        "\n",
        "\n",
        "b. Un partido de baloncesto\n",
        "* **Parcialmente observable:** Sí, un agente (jugador) no puede ver todas las posiciones y acciones de los demás jugadores en todo momento.\n",
        "* **Estocástico:** Sí, hay un grado de azar en los movimientos de la pelota, los rebotes y las acciones de los otros jugadores.\n",
        "* **Secuencial:** Sí, las decisiones de un jugador afectan el desarrollo del partido.\n",
        "* **Dinámico:** Sí, el entorno cambia constantemente debido a los movimientos de los jugadores y la pelota.\n",
        "* **Continuo:** Sí, las posiciones, velocidades y trayectorias de la pelota y los jugadores son continuas.\n",
        "* **Multiagente:** Sí, hay varios agentes (los jugadores de ambos equipos) interactuando.\n",
        "\n",
        "\n",
        "c. El juego Pacman\n",
        "* **Parcialmente observable:** Sí, Pacman no puede ver lo que hay en los pasillos que no están a su vista.\n",
        "* **Estocástico:** Sí, el movimiento de los fantasmas puede ser impredecible para el agente (Pacman).\n",
        "* **Secuencial:** Sí, las acciones pasadas (dónde ha comido los puntos) afectan las futuras decisiones y el resultado del juego.\n",
        "* **Dinámico:** Sí, el entorno cambia constantemente con el movimiento de Pacman y los fantasmas.\n",
        "* **Discreto:** Sí, los movimientos son en celdas de una cuadrícula y las acciones son limitadas.\n",
        "* **Multiagente:** Sí, Pacman interactúa con varios agentes (los fantasmas).\n",
        "\n",
        "\n",
        "d. El truco\n",
        "* **Parcialmente observable:** Sí, un jugador no conoce las cartas de los otros jugadores.\n",
        "* **Estocástico:** Sí, el reparto de cartas es aleatorio, lo que introduce un elemento de azar.\n",
        "* **Secuencial:** Sí, las decisiones de un jugador (cantar, envidar) tienen un impacto directo en las jugadas posteriores.\n",
        "* **Dinámico:** Sí, el entorno cambia continuamente con las acciones y el comportamiento de los otros jugadores.\n",
        "* **Discreto:** Sí, el número de cartas y de jugadas posibles es finito.\n",
        "* **Multiagente:** Sí, es un juego de múltiples agentes (los jugadores) que pueden formar equipos.\n",
        "\n",
        "\n",
        "e. Las damas\n",
        "* **Totalmente observable:** Sí, al igual que el ajedrez, todas las piezas son visibles en el tablero.\n",
        "* **Determinista:** Sí, cada movimiento tiene un resultado predecible.\n",
        "* **Secuencial:** Sí, los movimientos de un jugador afectan las futuras posibilidades del otro.\n",
        "* **Estático:** Sí, porque el tablero no cambia a menos que un jugador haga un movimiento.\n",
        "* **Discreto:** Sí, el número de movimientos y estados del tablero es finito.\n",
        "* **Multiagente:** Sí, hay dos agentes (los jugadores) que compiten.\n",
        "\n",
        "\n",
        "f. El juego tres en raya\n",
        "* **Totalmente observable:** Sí, el tablero es completamente visible para ambos jugadores.\n",
        "* **Determinista:** Sí, no hay azar en los movimientos.\n",
        "* **Secuencial:** Sí, cada jugada influye en las siguientes.\n",
        "* **Estático:** Sí, ya que el tablero no cambia entre turnos.\n",
        "* **Discreto:** Sí, el número de movimientos y estados del tablero es finito.\n",
        "* **Multiagente:** Sí, hay dos agentes (los jugadores) compitiendo.\n",
        "\n",
        "\n",
        "g. Un jugador de Pokémon Go\n",
        "* **Parcialmente observable:** Sí, el jugador solo puede ver los Pokémon cercanos y no lo que ocurre en todo el mapa.\n",
        "* **Estocástico:** Sí, la aparición de Pokémon es aleatoria.\n",
        "* **Secuencial:** Sí, las decisiones de un jugador (ir a una zona en particular) afectan las futuras recompensas (los Pokémon que podría capturar).\n",
        "* **Dinámico:** Sí, el entorno real cambia constantemente y los Pokémon aparecen y desaparecen.\n",
        "* **Continuo:** Sí, la ubicación del jugador y los Pokémon se mueve en un espacio geográfico continuo.\n",
        "* **Multiagente:** Sí, hay múltiples jugadores interactuando y compitiendo por los mismos recursos.\n",
        "\n",
        "\n",
        "h. Un robot explorador autónomo de Marte\n",
        "* **Parcialmente observable:** Sí, el robot no puede ver lo que hay detrás de un obstáculo o más allá de su línea de visión.\n",
        "* **Estocástico:** Sí, la topografía del terreno es incierta y pueden ocurrir eventos inesperados.\n",
        "* **Secuencial:** Sí, las decisiones de exploración afectan los futuros descubrimientos y la ruta a seguir.\n",
        "* **Dinámico:** Sí, el entorno podría cambiar debido a tormentas de polvo o pequeños movimientos de rocas.\n",
        "* **Continuo:** Sí, los movimientos del robot en el terreno y las mediciones de los sensores son continuos.\n",
        "* **Agente individual:** Sí, el robot opera por sí mismo para cumplir sus objetivos."
      ]
    },
    {
      "cell_type": "markdown",
      "metadata": {},
      "source": [
        "#### 7. Elabore una tabla REAS para los siguientes entornos de trabajo:\n",
        "\n",
        "a. Crucigrama\n",
        "\n",
        "| Componente | Descripción |\n",
        "| :--- | :--- |\n",
        "| **Rendimiento** | Se mide por la velocidad con la que se completa el crucigrama y la cantidad de respuestas correctas. El objetivo es llenar la mayor cantidad de casillas con las palabras correctas en el menor tiempo posible. |\n",
        "| **Entorno** | Un tablero de crucigrama con palabras cruzadas y pistas. Es un entorno **estático**, **discreto** y **totalmente observable**. |\n",
        "| **Actuadores** | Las acciones del agente, como escribir una letra en una casilla específica o borrar una letra para corregir. |\n",
        "| **Sensores** | La capacidad de leer las pistas, identificar las casillas y percibir las letras que ya se han colocado en el tablero. |\n",
        "\n",
        "\n",
        "b. Taxi circulando\n",
        "\n",
        "| Componente | Descripción |\n",
        "| :--- | :--- |\n",
        "| **Rendimiento** | Se evalúa por la seguridad (evitar accidentes), la eficiencia (llegar al destino en el menor tiempo posible) y la satisfacción del cliente (ofrecer una experiencia de viaje cómoda). |\n",
        "| **Entorno** | Las carreteras, otros vehículos, peatones, señales de tráfico, semáforos, el clima y los pasajeros. Es un entorno **dinámico**, **estocástico** y **parcialmente observable**. |\n",
        "| **Actuadores** | El volante (girar), los pedales (acelerar y frenar), la transmisión (cambiar de marcha) y los indicadores de dirección (señalizar). |\n",
        "| **Sensores** | Cámaras (visión de la carretera), radar (distancia a otros vehículos), GPS (posición), micrófono (interacción con el pasajero) y el motor de temperatura (estado del coche). |\n",
        "\n",
        "\n",
        "c. Robot clasificador de piezas\n",
        "\n",
        "| Componente | Descripción |\n",
        "| :--- | :--- |\n",
        "| **Rendimiento** | Se mide por la precisión (clasificar correctamente las piezas), la velocidad (cantidad de piezas clasificadas por minuto) y la eficiencia energética. |\n",
        "| **Entorno** | Una cinta transportadora con piezas de diferentes formas, tamaños y colores, y los contenedores de clasificación. Es un entorno **episódico** y **estático** (la cinta se mueve, pero el robot no). |\n",
        "| **Actuadores** | Un brazo robótico para recoger las piezas y la capacidad de soltar las piezas en el contenedor correcto. |\n",
        "| **Sensores** | Sensores de visión (cámaras) para identificar la forma, tamaño y color de las piezas, y sensores táctiles para determinar la posición y el agarre de la pieza. |"
      ]
    },
    {
      "cell_type": "markdown",
      "metadata": {},
      "source": [
        "# Ejercicios Prácticos\n",
        "\n",
        "8. La Hormiga de Langton es un agente capaz de modificar el estado de la casilla en la que se encuentra para colorearla o bien de blanco o de negro. Al comenzar, la ubicación de la hormiga es una casilla aleatoria y mira hacia una de las cuatro casillas adyacentes. Si...\n",
        "\n",
        "* ... la casilla sobre la que está es blanca, cambia el color del cuadrado, gira noventa grados a la derecha y avanza un cuadrado.\n",
        "\n",
        "* ... la casilla sobre la que está es negra, cambia el color del cuadrado, gira noventa grados a la izquierda y avanza un cuadrado.\n",
        "\n",
        "    Caracterice el agente con su tabla REAS y las propiedades del entorno para después programarlo en Python:\n",
        "\n",
        "    ¿Observa que se repite algún patrón? De ser así, ¿a partir de qué iteración?"
      ]
    },
    {
      "cell_type": "code",
      "execution_count": null,
      "metadata": {
        "vscode": {
          "languageId": "plaintext"
        }
      },
      "outputs": [],
      "source": []
    },
    {
      "cell_type": "markdown",
      "metadata": {},
      "source": [
        "9. El Juego de la Vida de Conway consiste en un tablero donde cada casilla representa una célula, de manera que a cada célula le rodean 8 vecinas. Las células tienen dos estados: están *vivas* o *muertas*. En cada iteración, el estado de todas las células se tiene en cuenta para calcular el estado siguiente en simultáneo de acuerdo a las siguientes acciones:\n",
        "\n",
        "* Nacer: Si una célula muerta tiene exactamente 3 células vecinas vivas, dicha célula pasa a estar viva.\n",
        "\n",
        "* Morir: Una célula viva puede morir sobrepoblación cuando tiene más de tres vecinos alrededor o por aislamiento si tiene solo un vecino o ninguno.\n",
        "\n",
        "* Vivir: una célula se mantiene viva si tiene 2 o 3 vecinos a su alrededor.\n",
        "\n",
        "    Caracterice el agente con su tabla REAS y las propiedades del entorno para después programarlo en Python:"
      ]
    },
    {
      "cell_type": "code",
      "execution_count": null,
      "metadata": {
        "vscode": {
          "languageId": "plaintext"
        }
      },
      "outputs": [],
      "source": []
    },
    {
      "attachments": {},
      "cell_type": "markdown",
      "metadata": {
        "id": "oXcAF__NmgG5"
      },
      "source": [
        "# Bibliografía\n",
        "\n",
        "[Russell, S. & Norvig, P. (2004) _Inteligencia Artificial: Un Enfoque Moderno_. Pearson Educación S.A. (2a Ed.) Madrid, España](https://www.academia.edu/8241613/Inteligencia_Aritificial_Un_Enfoque_Moderno_2da_Edici%C3%B3n_Stuart_J_Russell_y_Peter_Norvig)\n",
        "\n",
        "[Poole, D. & Mackworth, A. (2023) _Artificial Intelligence: Foundations of Computational Agents_. Cambridge University Press (3a Ed.) Vancouver, Canada](https://artint.info/3e/html/ArtInt3e.html)"
      ]
    }
  ],
  "metadata": {
    "colab": {
      "provenance": []
    },
    "kernelspec": {
      "display_name": "Python 3",
      "name": "python3"
    },
    "language_info": {
      "name": "python"
    }
  },
  "nbformat": 4,
  "nbformat_minor": 0
}
